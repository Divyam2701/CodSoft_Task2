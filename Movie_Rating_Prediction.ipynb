{
  "nbformat": 4,
  "nbformat_minor": 0,
  "metadata": {
    "colab": {
      "provenance": []
    },
    "kernelspec": {
      "name": "python3",
      "display_name": "Python 3"
    },
    "language_info": {
      "name": "python"
    }
  },
  "cells": [
    {
      "cell_type": "markdown",
      "source": [
        "**Import Libraries for data processing and modelling**"
      ],
      "metadata": {
        "id": "xZlH5EMJwsXc"
      }
    },
    {
      "cell_type": "code",
      "execution_count": 60,
      "metadata": {
        "id": "m1M_y3g8wgVY"
      },
      "outputs": [],
      "source": [
        "import numpy as np\n",
        "import pandas as pd\n",
        "import matplotlib.pyplot as plt\n",
        "import seaborn as sns\n",
        "import plotly.express as px"
      ]
    },
    {
      "cell_type": "code",
      "source": [
        "from google.colab import files\n",
        "uploaded = files.upload()"
      ],
      "metadata": {
        "colab": {
          "base_uri": "https://localhost:8080/",
          "height": 71
        },
        "id": "bfJpCVvS2xUZ",
        "outputId": "8a0e598e-b6c4-49ce-fd75-9b50495a52e2"
      },
      "execution_count": 70,
      "outputs": [
        {
          "output_type": "display_data",
          "data": {
            "text/plain": [
              "<IPython.core.display.HTML object>"
            ],
            "text/html": [
              "\n",
              "     <input type=\"file\" id=\"files-15c68671-7c16-4a64-a540-b77cefba7b59\" name=\"files[]\" multiple disabled\n",
              "        style=\"border:none\" />\n",
              "     <output id=\"result-15c68671-7c16-4a64-a540-b77cefba7b59\">\n",
              "      Upload widget is only available when the cell has been executed in the\n",
              "      current browser session. Please rerun this cell to enable.\n",
              "      </output>\n",
              "      <script>// Copyright 2017 Google LLC\n",
              "//\n",
              "// Licensed under the Apache License, Version 2.0 (the \"License\");\n",
              "// you may not use this file except in compliance with the License.\n",
              "// You may obtain a copy of the License at\n",
              "//\n",
              "//      http://www.apache.org/licenses/LICENSE-2.0\n",
              "//\n",
              "// Unless required by applicable law or agreed to in writing, software\n",
              "// distributed under the License is distributed on an \"AS IS\" BASIS,\n",
              "// WITHOUT WARRANTIES OR CONDITIONS OF ANY KIND, either express or implied.\n",
              "// See the License for the specific language governing permissions and\n",
              "// limitations under the License.\n",
              "\n",
              "/**\n",
              " * @fileoverview Helpers for google.colab Python module.\n",
              " */\n",
              "(function(scope) {\n",
              "function span(text, styleAttributes = {}) {\n",
              "  const element = document.createElement('span');\n",
              "  element.textContent = text;\n",
              "  for (const key of Object.keys(styleAttributes)) {\n",
              "    element.style[key] = styleAttributes[key];\n",
              "  }\n",
              "  return element;\n",
              "}\n",
              "\n",
              "// Max number of bytes which will be uploaded at a time.\n",
              "const MAX_PAYLOAD_SIZE = 100 * 1024;\n",
              "\n",
              "function _uploadFiles(inputId, outputId) {\n",
              "  const steps = uploadFilesStep(inputId, outputId);\n",
              "  const outputElement = document.getElementById(outputId);\n",
              "  // Cache steps on the outputElement to make it available for the next call\n",
              "  // to uploadFilesContinue from Python.\n",
              "  outputElement.steps = steps;\n",
              "\n",
              "  return _uploadFilesContinue(outputId);\n",
              "}\n",
              "\n",
              "// This is roughly an async generator (not supported in the browser yet),\n",
              "// where there are multiple asynchronous steps and the Python side is going\n",
              "// to poll for completion of each step.\n",
              "// This uses a Promise to block the python side on completion of each step,\n",
              "// then passes the result of the previous step as the input to the next step.\n",
              "function _uploadFilesContinue(outputId) {\n",
              "  const outputElement = document.getElementById(outputId);\n",
              "  const steps = outputElement.steps;\n",
              "\n",
              "  const next = steps.next(outputElement.lastPromiseValue);\n",
              "  return Promise.resolve(next.value.promise).then((value) => {\n",
              "    // Cache the last promise value to make it available to the next\n",
              "    // step of the generator.\n",
              "    outputElement.lastPromiseValue = value;\n",
              "    return next.value.response;\n",
              "  });\n",
              "}\n",
              "\n",
              "/**\n",
              " * Generator function which is called between each async step of the upload\n",
              " * process.\n",
              " * @param {string} inputId Element ID of the input file picker element.\n",
              " * @param {string} outputId Element ID of the output display.\n",
              " * @return {!Iterable<!Object>} Iterable of next steps.\n",
              " */\n",
              "function* uploadFilesStep(inputId, outputId) {\n",
              "  const inputElement = document.getElementById(inputId);\n",
              "  inputElement.disabled = false;\n",
              "\n",
              "  const outputElement = document.getElementById(outputId);\n",
              "  outputElement.innerHTML = '';\n",
              "\n",
              "  const pickedPromise = new Promise((resolve) => {\n",
              "    inputElement.addEventListener('change', (e) => {\n",
              "      resolve(e.target.files);\n",
              "    });\n",
              "  });\n",
              "\n",
              "  const cancel = document.createElement('button');\n",
              "  inputElement.parentElement.appendChild(cancel);\n",
              "  cancel.textContent = 'Cancel upload';\n",
              "  const cancelPromise = new Promise((resolve) => {\n",
              "    cancel.onclick = () => {\n",
              "      resolve(null);\n",
              "    };\n",
              "  });\n",
              "\n",
              "  // Wait for the user to pick the files.\n",
              "  const files = yield {\n",
              "    promise: Promise.race([pickedPromise, cancelPromise]),\n",
              "    response: {\n",
              "      action: 'starting',\n",
              "    }\n",
              "  };\n",
              "\n",
              "  cancel.remove();\n",
              "\n",
              "  // Disable the input element since further picks are not allowed.\n",
              "  inputElement.disabled = true;\n",
              "\n",
              "  if (!files) {\n",
              "    return {\n",
              "      response: {\n",
              "        action: 'complete',\n",
              "      }\n",
              "    };\n",
              "  }\n",
              "\n",
              "  for (const file of files) {\n",
              "    const li = document.createElement('li');\n",
              "    li.append(span(file.name, {fontWeight: 'bold'}));\n",
              "    li.append(span(\n",
              "        `(${file.type || 'n/a'}) - ${file.size} bytes, ` +\n",
              "        `last modified: ${\n",
              "            file.lastModifiedDate ? file.lastModifiedDate.toLocaleDateString() :\n",
              "                                    'n/a'} - `));\n",
              "    const percent = span('0% done');\n",
              "    li.appendChild(percent);\n",
              "\n",
              "    outputElement.appendChild(li);\n",
              "\n",
              "    const fileDataPromise = new Promise((resolve) => {\n",
              "      const reader = new FileReader();\n",
              "      reader.onload = (e) => {\n",
              "        resolve(e.target.result);\n",
              "      };\n",
              "      reader.readAsArrayBuffer(file);\n",
              "    });\n",
              "    // Wait for the data to be ready.\n",
              "    let fileData = yield {\n",
              "      promise: fileDataPromise,\n",
              "      response: {\n",
              "        action: 'continue',\n",
              "      }\n",
              "    };\n",
              "\n",
              "    // Use a chunked sending to avoid message size limits. See b/62115660.\n",
              "    let position = 0;\n",
              "    do {\n",
              "      const length = Math.min(fileData.byteLength - position, MAX_PAYLOAD_SIZE);\n",
              "      const chunk = new Uint8Array(fileData, position, length);\n",
              "      position += length;\n",
              "\n",
              "      const base64 = btoa(String.fromCharCode.apply(null, chunk));\n",
              "      yield {\n",
              "        response: {\n",
              "          action: 'append',\n",
              "          file: file.name,\n",
              "          data: base64,\n",
              "        },\n",
              "      };\n",
              "\n",
              "      let percentDone = fileData.byteLength === 0 ?\n",
              "          100 :\n",
              "          Math.round((position / fileData.byteLength) * 100);\n",
              "      percent.textContent = `${percentDone}% done`;\n",
              "\n",
              "    } while (position < fileData.byteLength);\n",
              "  }\n",
              "\n",
              "  // All done.\n",
              "  yield {\n",
              "    response: {\n",
              "      action: 'complete',\n",
              "    }\n",
              "  };\n",
              "}\n",
              "\n",
              "scope.google = scope.google || {};\n",
              "scope.google.colab = scope.google.colab || {};\n",
              "scope.google.colab._files = {\n",
              "  _uploadFiles,\n",
              "  _uploadFilesContinue,\n",
              "};\n",
              "})(self);\n",
              "</script> "
            ]
          },
          "metadata": {}
        },
        {
          "output_type": "stream",
          "name": "stdout",
          "text": [
            "Saving IMDb Movies India.csv to IMDb Movies India.csv\n"
          ]
        }
      ]
    },
    {
      "cell_type": "code",
      "source": [
        "import io\n",
        "imdb_df = pd.read_csv((io.BytesIO(uploaded['IMDb Movies India.csv'])),encoding='unicode_escape')"
      ],
      "metadata": {
        "id": "Dnje7Cp53BBn"
      },
      "execution_count": 71,
      "outputs": []
    },
    {
      "cell_type": "code",
      "source": [
        "imdb_df.head(10)"
      ],
      "metadata": {
        "colab": {
          "base_uri": "https://localhost:8080/",
          "height": 363
        },
        "id": "62qc8gXU3KOk",
        "outputId": "2470bb21-651e-49e2-ba30-5c721f7fb5b4"
      },
      "execution_count": 72,
      "outputs": [
        {
          "output_type": "execute_result",
          "data": {
            "text/plain": [
              "                                 Name    Year Duration  \\\n",
              "0                                         NaN      NaN   \n",
              "1  #Gadhvi (He thought he was Gandhi)  (2019)  109 min   \n",
              "2                         #Homecoming  (2021)   90 min   \n",
              "3                             #Yaaram  (2019)  110 min   \n",
              "4                   ...And Once Again  (2010)  105 min   \n",
              "5                ...Aur Pyaar Ho Gaya  (1997)  147 min   \n",
              "6                           ...Yahaan  (2005)  142 min   \n",
              "7                      .in for Motion  (2008)   59 min   \n",
              "8                  ?: A Question Mark  (2012)   82 min   \n",
              "9                            @Andheri  (2014)  116 min   \n",
              "\n",
              "                       Genre  Rating  Votes            Director  \\\n",
              "0                      Drama     NaN    NaN       J.S. Randhawa   \n",
              "1                      Drama     7.0      8       Gaurav Bakshi   \n",
              "2             Drama, Musical     NaN    NaN  Soumyajit Majumdar   \n",
              "3            Comedy, Romance     4.4     35          Ovais Khan   \n",
              "4                      Drama     NaN    NaN        Amol Palekar   \n",
              "5     Comedy, Drama, Musical     4.7    827        Rahul Rawail   \n",
              "6        Drama, Romance, War     7.4  1,086      Shoojit Sircar   \n",
              "7                Documentary     NaN    NaN       Anirban Datta   \n",
              "8  Horror, Mystery, Thriller     5.6    326       Allyson Patel   \n",
              "9    Action, Crime, Thriller     4.0     11   Biju Bhaskar Nair   \n",
              "\n",
              "           Actor 1                 Actor 2          Actor 3  \n",
              "0         Manmauji                  Birbal  Rajendra Bhatia  \n",
              "1     Rasika Dugal          Vivek Ghamande    Arvind Jangid  \n",
              "2     Sayani Gupta       Plabita Borthakur       Roy Angana  \n",
              "3          Prateik              Ishita Raj  Siddhant Kapoor  \n",
              "4     Rajat Kapoor      Rituparna Sengupta      Antara Mali  \n",
              "5       Bobby Deol  Aishwarya Rai Bachchan    Shammi Kapoor  \n",
              "6  Jimmy Sheirgill          Minissha Lamba   Yashpal Sharma  \n",
              "7              NaN                     NaN              NaN  \n",
              "8        Yash Dave          Muntazir Ahmad     Kiran Bhatia  \n",
              "9        Augustine            Fathima Babu             Byon  "
            ],
            "text/html": [
              "\n",
              "  <div id=\"df-371f48a2-d17f-4d8a-8cd9-ba2e7bc44828\" class=\"colab-df-container\">\n",
              "    <div>\n",
              "<style scoped>\n",
              "    .dataframe tbody tr th:only-of-type {\n",
              "        vertical-align: middle;\n",
              "    }\n",
              "\n",
              "    .dataframe tbody tr th {\n",
              "        vertical-align: top;\n",
              "    }\n",
              "\n",
              "    .dataframe thead th {\n",
              "        text-align: right;\n",
              "    }\n",
              "</style>\n",
              "<table border=\"1\" class=\"dataframe\">\n",
              "  <thead>\n",
              "    <tr style=\"text-align: right;\">\n",
              "      <th></th>\n",
              "      <th>Name</th>\n",
              "      <th>Year</th>\n",
              "      <th>Duration</th>\n",
              "      <th>Genre</th>\n",
              "      <th>Rating</th>\n",
              "      <th>Votes</th>\n",
              "      <th>Director</th>\n",
              "      <th>Actor 1</th>\n",
              "      <th>Actor 2</th>\n",
              "      <th>Actor 3</th>\n",
              "    </tr>\n",
              "  </thead>\n",
              "  <tbody>\n",
              "    <tr>\n",
              "      <th>0</th>\n",
              "      <td></td>\n",
              "      <td>NaN</td>\n",
              "      <td>NaN</td>\n",
              "      <td>Drama</td>\n",
              "      <td>NaN</td>\n",
              "      <td>NaN</td>\n",
              "      <td>J.S. Randhawa</td>\n",
              "      <td>Manmauji</td>\n",
              "      <td>Birbal</td>\n",
              "      <td>Rajendra Bhatia</td>\n",
              "    </tr>\n",
              "    <tr>\n",
              "      <th>1</th>\n",
              "      <td>#Gadhvi (He thought he was Gandhi)</td>\n",
              "      <td>(2019)</td>\n",
              "      <td>109 min</td>\n",
              "      <td>Drama</td>\n",
              "      <td>7.0</td>\n",
              "      <td>8</td>\n",
              "      <td>Gaurav Bakshi</td>\n",
              "      <td>Rasika Dugal</td>\n",
              "      <td>Vivek Ghamande</td>\n",
              "      <td>Arvind Jangid</td>\n",
              "    </tr>\n",
              "    <tr>\n",
              "      <th>2</th>\n",
              "      <td>#Homecoming</td>\n",
              "      <td>(2021)</td>\n",
              "      <td>90 min</td>\n",
              "      <td>Drama, Musical</td>\n",
              "      <td>NaN</td>\n",
              "      <td>NaN</td>\n",
              "      <td>Soumyajit Majumdar</td>\n",
              "      <td>Sayani Gupta</td>\n",
              "      <td>Plabita Borthakur</td>\n",
              "      <td>Roy Angana</td>\n",
              "    </tr>\n",
              "    <tr>\n",
              "      <th>3</th>\n",
              "      <td>#Yaaram</td>\n",
              "      <td>(2019)</td>\n",
              "      <td>110 min</td>\n",
              "      <td>Comedy, Romance</td>\n",
              "      <td>4.4</td>\n",
              "      <td>35</td>\n",
              "      <td>Ovais Khan</td>\n",
              "      <td>Prateik</td>\n",
              "      <td>Ishita Raj</td>\n",
              "      <td>Siddhant Kapoor</td>\n",
              "    </tr>\n",
              "    <tr>\n",
              "      <th>4</th>\n",
              "      <td>...And Once Again</td>\n",
              "      <td>(2010)</td>\n",
              "      <td>105 min</td>\n",
              "      <td>Drama</td>\n",
              "      <td>NaN</td>\n",
              "      <td>NaN</td>\n",
              "      <td>Amol Palekar</td>\n",
              "      <td>Rajat Kapoor</td>\n",
              "      <td>Rituparna Sengupta</td>\n",
              "      <td>Antara Mali</td>\n",
              "    </tr>\n",
              "    <tr>\n",
              "      <th>5</th>\n",
              "      <td>...Aur Pyaar Ho Gaya</td>\n",
              "      <td>(1997)</td>\n",
              "      <td>147 min</td>\n",
              "      <td>Comedy, Drama, Musical</td>\n",
              "      <td>4.7</td>\n",
              "      <td>827</td>\n",
              "      <td>Rahul Rawail</td>\n",
              "      <td>Bobby Deol</td>\n",
              "      <td>Aishwarya Rai Bachchan</td>\n",
              "      <td>Shammi Kapoor</td>\n",
              "    </tr>\n",
              "    <tr>\n",
              "      <th>6</th>\n",
              "      <td>...Yahaan</td>\n",
              "      <td>(2005)</td>\n",
              "      <td>142 min</td>\n",
              "      <td>Drama, Romance, War</td>\n",
              "      <td>7.4</td>\n",
              "      <td>1,086</td>\n",
              "      <td>Shoojit Sircar</td>\n",
              "      <td>Jimmy Sheirgill</td>\n",
              "      <td>Minissha Lamba</td>\n",
              "      <td>Yashpal Sharma</td>\n",
              "    </tr>\n",
              "    <tr>\n",
              "      <th>7</th>\n",
              "      <td>.in for Motion</td>\n",
              "      <td>(2008)</td>\n",
              "      <td>59 min</td>\n",
              "      <td>Documentary</td>\n",
              "      <td>NaN</td>\n",
              "      <td>NaN</td>\n",
              "      <td>Anirban Datta</td>\n",
              "      <td>NaN</td>\n",
              "      <td>NaN</td>\n",
              "      <td>NaN</td>\n",
              "    </tr>\n",
              "    <tr>\n",
              "      <th>8</th>\n",
              "      <td>?: A Question Mark</td>\n",
              "      <td>(2012)</td>\n",
              "      <td>82 min</td>\n",
              "      <td>Horror, Mystery, Thriller</td>\n",
              "      <td>5.6</td>\n",
              "      <td>326</td>\n",
              "      <td>Allyson Patel</td>\n",
              "      <td>Yash Dave</td>\n",
              "      <td>Muntazir Ahmad</td>\n",
              "      <td>Kiran Bhatia</td>\n",
              "    </tr>\n",
              "    <tr>\n",
              "      <th>9</th>\n",
              "      <td>@Andheri</td>\n",
              "      <td>(2014)</td>\n",
              "      <td>116 min</td>\n",
              "      <td>Action, Crime, Thriller</td>\n",
              "      <td>4.0</td>\n",
              "      <td>11</td>\n",
              "      <td>Biju Bhaskar Nair</td>\n",
              "      <td>Augustine</td>\n",
              "      <td>Fathima Babu</td>\n",
              "      <td>Byon</td>\n",
              "    </tr>\n",
              "  </tbody>\n",
              "</table>\n",
              "</div>\n",
              "    <div class=\"colab-df-buttons\">\n",
              "\n",
              "  <div class=\"colab-df-container\">\n",
              "    <button class=\"colab-df-convert\" onclick=\"convertToInteractive('df-371f48a2-d17f-4d8a-8cd9-ba2e7bc44828')\"\n",
              "            title=\"Convert this dataframe to an interactive table.\"\n",
              "            style=\"display:none;\">\n",
              "\n",
              "  <svg xmlns=\"http://www.w3.org/2000/svg\" height=\"24px\" viewBox=\"0 -960 960 960\">\n",
              "    <path d=\"M120-120v-720h720v720H120Zm60-500h600v-160H180v160Zm220 220h160v-160H400v160Zm0 220h160v-160H400v160ZM180-400h160v-160H180v160Zm440 0h160v-160H620v160ZM180-180h160v-160H180v160Zm440 0h160v-160H620v160Z\"/>\n",
              "  </svg>\n",
              "    </button>\n",
              "\n",
              "  <style>\n",
              "    .colab-df-container {\n",
              "      display:flex;\n",
              "      gap: 12px;\n",
              "    }\n",
              "\n",
              "    .colab-df-convert {\n",
              "      background-color: #E8F0FE;\n",
              "      border: none;\n",
              "      border-radius: 50%;\n",
              "      cursor: pointer;\n",
              "      display: none;\n",
              "      fill: #1967D2;\n",
              "      height: 32px;\n",
              "      padding: 0 0 0 0;\n",
              "      width: 32px;\n",
              "    }\n",
              "\n",
              "    .colab-df-convert:hover {\n",
              "      background-color: #E2EBFA;\n",
              "      box-shadow: 0px 1px 2px rgba(60, 64, 67, 0.3), 0px 1px 3px 1px rgba(60, 64, 67, 0.15);\n",
              "      fill: #174EA6;\n",
              "    }\n",
              "\n",
              "    .colab-df-buttons div {\n",
              "      margin-bottom: 4px;\n",
              "    }\n",
              "\n",
              "    [theme=dark] .colab-df-convert {\n",
              "      background-color: #3B4455;\n",
              "      fill: #D2E3FC;\n",
              "    }\n",
              "\n",
              "    [theme=dark] .colab-df-convert:hover {\n",
              "      background-color: #434B5C;\n",
              "      box-shadow: 0px 1px 3px 1px rgba(0, 0, 0, 0.15);\n",
              "      filter: drop-shadow(0px 1px 2px rgba(0, 0, 0, 0.3));\n",
              "      fill: #FFFFFF;\n",
              "    }\n",
              "  </style>\n",
              "\n",
              "    <script>\n",
              "      const buttonEl =\n",
              "        document.querySelector('#df-371f48a2-d17f-4d8a-8cd9-ba2e7bc44828 button.colab-df-convert');\n",
              "      buttonEl.style.display =\n",
              "        google.colab.kernel.accessAllowed ? 'block' : 'none';\n",
              "\n",
              "      async function convertToInteractive(key) {\n",
              "        const element = document.querySelector('#df-371f48a2-d17f-4d8a-8cd9-ba2e7bc44828');\n",
              "        const dataTable =\n",
              "          await google.colab.kernel.invokeFunction('convertToInteractive',\n",
              "                                                    [key], {});\n",
              "        if (!dataTable) return;\n",
              "\n",
              "        const docLinkHtml = 'Like what you see? Visit the ' +\n",
              "          '<a target=\"_blank\" href=https://colab.research.google.com/notebooks/data_table.ipynb>data table notebook</a>'\n",
              "          + ' to learn more about interactive tables.';\n",
              "        element.innerHTML = '';\n",
              "        dataTable['output_type'] = 'display_data';\n",
              "        await google.colab.output.renderOutput(dataTable, element);\n",
              "        const docLink = document.createElement('div');\n",
              "        docLink.innerHTML = docLinkHtml;\n",
              "        element.appendChild(docLink);\n",
              "      }\n",
              "    </script>\n",
              "  </div>\n",
              "\n",
              "\n",
              "<div id=\"df-19a6c625-dbd2-4da8-b107-698223ebffa5\">\n",
              "  <button class=\"colab-df-quickchart\" onclick=\"quickchart('df-19a6c625-dbd2-4da8-b107-698223ebffa5')\"\n",
              "            title=\"Suggest charts\"\n",
              "            style=\"display:none;\">\n",
              "\n",
              "<svg xmlns=\"http://www.w3.org/2000/svg\" height=\"24px\"viewBox=\"0 0 24 24\"\n",
              "     width=\"24px\">\n",
              "    <g>\n",
              "        <path d=\"M19 3H5c-1.1 0-2 .9-2 2v14c0 1.1.9 2 2 2h14c1.1 0 2-.9 2-2V5c0-1.1-.9-2-2-2zM9 17H7v-7h2v7zm4 0h-2V7h2v10zm4 0h-2v-4h2v4z\"/>\n",
              "    </g>\n",
              "</svg>\n",
              "  </button>\n",
              "\n",
              "<style>\n",
              "  .colab-df-quickchart {\n",
              "      --bg-color: #E8F0FE;\n",
              "      --fill-color: #1967D2;\n",
              "      --hover-bg-color: #E2EBFA;\n",
              "      --hover-fill-color: #174EA6;\n",
              "      --disabled-fill-color: #AAA;\n",
              "      --disabled-bg-color: #DDD;\n",
              "  }\n",
              "\n",
              "  [theme=dark] .colab-df-quickchart {\n",
              "      --bg-color: #3B4455;\n",
              "      --fill-color: #D2E3FC;\n",
              "      --hover-bg-color: #434B5C;\n",
              "      --hover-fill-color: #FFFFFF;\n",
              "      --disabled-bg-color: #3B4455;\n",
              "      --disabled-fill-color: #666;\n",
              "  }\n",
              "\n",
              "  .colab-df-quickchart {\n",
              "    background-color: var(--bg-color);\n",
              "    border: none;\n",
              "    border-radius: 50%;\n",
              "    cursor: pointer;\n",
              "    display: none;\n",
              "    fill: var(--fill-color);\n",
              "    height: 32px;\n",
              "    padding: 0;\n",
              "    width: 32px;\n",
              "  }\n",
              "\n",
              "  .colab-df-quickchart:hover {\n",
              "    background-color: var(--hover-bg-color);\n",
              "    box-shadow: 0 1px 2px rgba(60, 64, 67, 0.3), 0 1px 3px 1px rgba(60, 64, 67, 0.15);\n",
              "    fill: var(--button-hover-fill-color);\n",
              "  }\n",
              "\n",
              "  .colab-df-quickchart-complete:disabled,\n",
              "  .colab-df-quickchart-complete:disabled:hover {\n",
              "    background-color: var(--disabled-bg-color);\n",
              "    fill: var(--disabled-fill-color);\n",
              "    box-shadow: none;\n",
              "  }\n",
              "\n",
              "  .colab-df-spinner {\n",
              "    border: 2px solid var(--fill-color);\n",
              "    border-color: transparent;\n",
              "    border-bottom-color: var(--fill-color);\n",
              "    animation:\n",
              "      spin 1s steps(1) infinite;\n",
              "  }\n",
              "\n",
              "  @keyframes spin {\n",
              "    0% {\n",
              "      border-color: transparent;\n",
              "      border-bottom-color: var(--fill-color);\n",
              "      border-left-color: var(--fill-color);\n",
              "    }\n",
              "    20% {\n",
              "      border-color: transparent;\n",
              "      border-left-color: var(--fill-color);\n",
              "      border-top-color: var(--fill-color);\n",
              "    }\n",
              "    30% {\n",
              "      border-color: transparent;\n",
              "      border-left-color: var(--fill-color);\n",
              "      border-top-color: var(--fill-color);\n",
              "      border-right-color: var(--fill-color);\n",
              "    }\n",
              "    40% {\n",
              "      border-color: transparent;\n",
              "      border-right-color: var(--fill-color);\n",
              "      border-top-color: var(--fill-color);\n",
              "    }\n",
              "    60% {\n",
              "      border-color: transparent;\n",
              "      border-right-color: var(--fill-color);\n",
              "    }\n",
              "    80% {\n",
              "      border-color: transparent;\n",
              "      border-right-color: var(--fill-color);\n",
              "      border-bottom-color: var(--fill-color);\n",
              "    }\n",
              "    90% {\n",
              "      border-color: transparent;\n",
              "      border-bottom-color: var(--fill-color);\n",
              "    }\n",
              "  }\n",
              "</style>\n",
              "\n",
              "  <script>\n",
              "    async function quickchart(key) {\n",
              "      const quickchartButtonEl =\n",
              "        document.querySelector('#' + key + ' button');\n",
              "      quickchartButtonEl.disabled = true;  // To prevent multiple clicks.\n",
              "      quickchartButtonEl.classList.add('colab-df-spinner');\n",
              "      try {\n",
              "        const charts = await google.colab.kernel.invokeFunction(\n",
              "            'suggestCharts', [key], {});\n",
              "      } catch (error) {\n",
              "        console.error('Error during call to suggestCharts:', error);\n",
              "      }\n",
              "      quickchartButtonEl.classList.remove('colab-df-spinner');\n",
              "      quickchartButtonEl.classList.add('colab-df-quickchart-complete');\n",
              "    }\n",
              "    (() => {\n",
              "      let quickchartButtonEl =\n",
              "        document.querySelector('#df-19a6c625-dbd2-4da8-b107-698223ebffa5 button');\n",
              "      quickchartButtonEl.style.display =\n",
              "        google.colab.kernel.accessAllowed ? 'block' : 'none';\n",
              "    })();\n",
              "  </script>\n",
              "</div>\n",
              "\n",
              "    </div>\n",
              "  </div>\n"
            ],
            "application/vnd.google.colaboratory.intrinsic+json": {
              "type": "dataframe",
              "variable_name": "imdb_df",
              "summary": "{\n  \"name\": \"imdb_df\",\n  \"rows\": 15509,\n  \"fields\": [\n    {\n      \"column\": \"Name\",\n      \"properties\": {\n        \"dtype\": \"string\",\n        \"num_unique_values\": 13838,\n        \"samples\": [\n          \"Tumsa Nahin Dekha\",\n          \"Thanedaar\",\n          \"Farzande Hind\"\n        ],\n        \"semantic_type\": \"\",\n        \"description\": \"\"\n      }\n    },\n    {\n      \"column\": \"Year\",\n      \"properties\": {\n        \"dtype\": \"category\",\n        \"num_unique_values\": 102,\n        \"samples\": [\n          \"(1974)\",\n          \"(1963)\",\n          \"(1971)\"\n        ],\n        \"semantic_type\": \"\",\n        \"description\": \"\"\n      }\n    },\n    {\n      \"column\": \"Duration\",\n      \"properties\": {\n        \"dtype\": \"category\",\n        \"num_unique_values\": 182,\n        \"samples\": [\n          \"168 min\",\n          \"99 min\",\n          \"179 min\"\n        ],\n        \"semantic_type\": \"\",\n        \"description\": \"\"\n      }\n    },\n    {\n      \"column\": \"Genre\",\n      \"properties\": {\n        \"dtype\": \"category\",\n        \"num_unique_values\": 485,\n        \"samples\": [\n          \"Family, Mystery\",\n          \"Comedy, Fantasy, Musical\",\n          \"Action, Adventure, Crime\"\n        ],\n        \"semantic_type\": \"\",\n        \"description\": \"\"\n      }\n    },\n    {\n      \"column\": \"Rating\",\n      \"properties\": {\n        \"dtype\": \"number\",\n        \"std\": 1.3817771548659665,\n        \"min\": 1.1,\n        \"max\": 10.0,\n        \"num_unique_values\": 84,\n        \"samples\": [\n          1.4,\n          7.0,\n          2.9\n        ],\n        \"semantic_type\": \"\",\n        \"description\": \"\"\n      }\n    },\n    {\n      \"column\": \"Votes\",\n      \"properties\": {\n        \"dtype\": \"category\",\n        \"num_unique_values\": 2034,\n        \"samples\": [\n          \"837\",\n          \"101\",\n          \"2,566\"\n        ],\n        \"semantic_type\": \"\",\n        \"description\": \"\"\n      }\n    },\n    {\n      \"column\": \"Director\",\n      \"properties\": {\n        \"dtype\": \"category\",\n        \"num_unique_values\": 5938,\n        \"samples\": [\n          \"Param Hans Chitra\",\n          \"Vickram\",\n          \"Zaigham Ali Syed\"\n        ],\n        \"semantic_type\": \"\",\n        \"description\": \"\"\n      }\n    },\n    {\n      \"column\": \"Actor 1\",\n      \"properties\": {\n        \"dtype\": \"category\",\n        \"num_unique_values\": 4718,\n        \"samples\": [\n          \"Abhishek Bachchan\",\n          \"Giri Babu\",\n          \"Ajay Bafna\"\n        ],\n        \"semantic_type\": \"\",\n        \"description\": \"\"\n      }\n    },\n    {\n      \"column\": \"Actor 2\",\n      \"properties\": {\n        \"dtype\": \"category\",\n        \"num_unique_values\": 4891,\n        \"samples\": [\n          \"Bipasha Basu\",\n          \"Mukul Dev\",\n          \"Arjun Kapoor\"\n        ],\n        \"semantic_type\": \"\",\n        \"description\": \"\"\n      }\n    },\n    {\n      \"column\": \"Actor 3\",\n      \"properties\": {\n        \"dtype\": \"category\",\n        \"num_unique_values\": 4820,\n        \"samples\": [\n          \"Damandeep Singh\",\n          \"Kamini Kaushal\",\n          \"Babu\"\n        ],\n        \"semantic_type\": \"\",\n        \"description\": \"\"\n      }\n    }\n  ]\n}"
            }
          },
          "metadata": {},
          "execution_count": 72
        }
      ]
    },
    {
      "cell_type": "code",
      "source": [
        "imdb_df.shape"
      ],
      "metadata": {
        "colab": {
          "base_uri": "https://localhost:8080/"
        },
        "id": "mJtlNDmI35zH",
        "outputId": "c84adf94-a4f2-4db1-93e2-61c00da9db02"
      },
      "execution_count": 73,
      "outputs": [
        {
          "output_type": "execute_result",
          "data": {
            "text/plain": [
              "(15509, 10)"
            ]
          },
          "metadata": {},
          "execution_count": 73
        }
      ]
    },
    {
      "cell_type": "code",
      "source": [
        "imdb_df.isnull().sum()"
      ],
      "metadata": {
        "colab": {
          "base_uri": "https://localhost:8080/"
        },
        "id": "JNPMu3Fv3_q-",
        "outputId": "c11f2e2f-8d23-4d0b-f68a-0031d680f00d"
      },
      "execution_count": 74,
      "outputs": [
        {
          "output_type": "execute_result",
          "data": {
            "text/plain": [
              "Name           0\n",
              "Year         528\n",
              "Duration    8269\n",
              "Genre       1877\n",
              "Rating      7590\n",
              "Votes       7589\n",
              "Director     525\n",
              "Actor 1     1617\n",
              "Actor 2     2384\n",
              "Actor 3     3144\n",
              "dtype: int64"
            ]
          },
          "metadata": {},
          "execution_count": 74
        }
      ]
    },
    {
      "cell_type": "code",
      "source": [
        "imdb_df.info()"
      ],
      "metadata": {
        "colab": {
          "base_uri": "https://localhost:8080/"
        },
        "id": "htLej46A4RrV",
        "outputId": "dd1abe2f-3f8b-44cd-b2e5-766d9480049c"
      },
      "execution_count": 75,
      "outputs": [
        {
          "output_type": "stream",
          "name": "stdout",
          "text": [
            "<class 'pandas.core.frame.DataFrame'>\n",
            "RangeIndex: 15509 entries, 0 to 15508\n",
            "Data columns (total 10 columns):\n",
            " #   Column    Non-Null Count  Dtype  \n",
            "---  ------    --------------  -----  \n",
            " 0   Name      15509 non-null  object \n",
            " 1   Year      14981 non-null  object \n",
            " 2   Duration  7240 non-null   object \n",
            " 3   Genre     13632 non-null  object \n",
            " 4   Rating    7919 non-null   float64\n",
            " 5   Votes     7920 non-null   object \n",
            " 6   Director  14984 non-null  object \n",
            " 7   Actor 1   13892 non-null  object \n",
            " 8   Actor 2   13125 non-null  object \n",
            " 9   Actor 3   12365 non-null  object \n",
            "dtypes: float64(1), object(9)\n",
            "memory usage: 1.2+ MB\n"
          ]
        }
      ]
    },
    {
      "cell_type": "code",
      "source": [
        "imdb_df.duplicated().sum()"
      ],
      "metadata": {
        "colab": {
          "base_uri": "https://localhost:8080/"
        },
        "id": "aWGy2aOj5KRX",
        "outputId": "3105a3d5-c1fb-4e6b-aaf1-29a8dcf47b9b"
      },
      "execution_count": 76,
      "outputs": [
        {
          "output_type": "execute_result",
          "data": {
            "text/plain": [
              "6"
            ]
          },
          "metadata": {},
          "execution_count": 76
        }
      ]
    },
    {
      "cell_type": "code",
      "source": [
        "imdb_df.dropna(inplace=True)"
      ],
      "metadata": {
        "id": "WKvIDv0j5Ptl"
      },
      "execution_count": 77,
      "outputs": []
    },
    {
      "cell_type": "code",
      "source": [
        "imdb_df.shape"
      ],
      "metadata": {
        "colab": {
          "base_uri": "https://localhost:8080/"
        },
        "id": "bCpUmXdD5TEH",
        "outputId": "063ce996-a347-42a4-c825-067beb293920"
      },
      "execution_count": 78,
      "outputs": [
        {
          "output_type": "execute_result",
          "data": {
            "text/plain": [
              "(5659, 10)"
            ]
          },
          "metadata": {},
          "execution_count": 78
        }
      ]
    },
    {
      "cell_type": "code",
      "source": [
        "imdb_df.isnull().sum()"
      ],
      "metadata": {
        "colab": {
          "base_uri": "https://localhost:8080/"
        },
        "id": "yfUg3hPk5aQ_",
        "outputId": "a2763bb7-2f1b-43f0-c3a8-1b846b26d570"
      },
      "execution_count": 79,
      "outputs": [
        {
          "output_type": "execute_result",
          "data": {
            "text/plain": [
              "Name        0\n",
              "Year        0\n",
              "Duration    0\n",
              "Genre       0\n",
              "Rating      0\n",
              "Votes       0\n",
              "Director    0\n",
              "Actor 1     0\n",
              "Actor 2     0\n",
              "Actor 3     0\n",
              "dtype: int64"
            ]
          },
          "metadata": {},
          "execution_count": 79
        }
      ]
    },
    {
      "cell_type": "code",
      "source": [
        "imdb_df.drop_duplicates(inplace=True)"
      ],
      "metadata": {
        "id": "3f8xCIdu5czd"
      },
      "execution_count": 80,
      "outputs": []
    },
    {
      "cell_type": "code",
      "source": [
        "imdb_df.shape"
      ],
      "metadata": {
        "colab": {
          "base_uri": "https://localhost:8080/"
        },
        "id": "VvxmOLFE5hzS",
        "outputId": "b0294f31-af4e-4b51-82a2-1569cc7bd7c8"
      },
      "execution_count": 81,
      "outputs": [
        {
          "output_type": "execute_result",
          "data": {
            "text/plain": [
              "(5659, 10)"
            ]
          },
          "metadata": {},
          "execution_count": 81
        }
      ]
    },
    {
      "cell_type": "code",
      "source": [
        "imdb_df.columns"
      ],
      "metadata": {
        "colab": {
          "base_uri": "https://localhost:8080/"
        },
        "id": "FoTN53_c5k8o",
        "outputId": "ab765cb5-d91c-4aef-d78d-854d0509c1ff"
      },
      "execution_count": 82,
      "outputs": [
        {
          "output_type": "execute_result",
          "data": {
            "text/plain": [
              "Index(['Name', 'Year', 'Duration', 'Genre', 'Rating', 'Votes', 'Director',\n",
              "       'Actor 1', 'Actor 2', 'Actor 3'],\n",
              "      dtype='object')"
            ]
          },
          "metadata": {},
          "execution_count": 82
        }
      ]
    },
    {
      "cell_type": "code",
      "source": [
        "# Replacing the brackets from year column\n",
        "imdb_df['Year'] = imdb_df['Year'].str.replace(r'[()]', '', regex=True).astype(int)"
      ],
      "metadata": {
        "id": "dJqxe2h557AI"
      },
      "execution_count": 83,
      "outputs": []
    },
    {
      "cell_type": "code",
      "source": [
        "# Remove the min word from 'Duration' column and convert all values to numeric\n",
        "imdb_df['Duration'] = pd.to_numeric(imdb_df['Duration'].str.replace(' min', ''))"
      ],
      "metadata": {
        "id": "LM-VZccq6cIX"
      },
      "execution_count": 84,
      "outputs": []
    },
    {
      "cell_type": "code",
      "source": [
        "# Splitting the genre by, to keep only unique genres and replacing the null values with mode\n",
        "imdb_df['Genre'] = imdb_df['Genre'].str.split(', ')\n",
        "imdb_df = imdb_df.explode('Genre')\n",
        "imdb_df['Genre'].fillna(imdb_df['Genre'].mode()[0], inplace=True)"
      ],
      "metadata": {
        "id": "zvF2bPag6h7t"
      },
      "execution_count": 85,
      "outputs": []
    },
    {
      "cell_type": "code",
      "source": [
        "# Convert 'Votes' to numeric and replace the , to keep only numerical part\n",
        "imdb_df['Votes'] = pd.to_numeric(imdb_df['Votes'].str.replace(',', ''))"
      ],
      "metadata": {
        "id": "HG89IoI36vbu"
      },
      "execution_count": 86,
      "outputs": []
    },
    {
      "cell_type": "code",
      "source": [
        "# Checking the dataset is there any null values present and data types of the features present\n",
        "imdb_df.info()"
      ],
      "metadata": {
        "colab": {
          "base_uri": "https://localhost:8080/"
        },
        "id": "hhiDG2SL62Mg",
        "outputId": "95eb33f2-fb68-46a6-b0d4-02ecded07c2d"
      },
      "execution_count": 87,
      "outputs": [
        {
          "output_type": "stream",
          "name": "stdout",
          "text": [
            "<class 'pandas.core.frame.DataFrame'>\n",
            "Index: 11979 entries, 1 to 15508\n",
            "Data columns (total 10 columns):\n",
            " #   Column    Non-Null Count  Dtype  \n",
            "---  ------    --------------  -----  \n",
            " 0   Name      11979 non-null  object \n",
            " 1   Year      11979 non-null  int64  \n",
            " 2   Duration  11979 non-null  int64  \n",
            " 3   Genre     11979 non-null  object \n",
            " 4   Rating    11979 non-null  float64\n",
            " 5   Votes     11979 non-null  int64  \n",
            " 6   Director  11979 non-null  object \n",
            " 7   Actor 1   11979 non-null  object \n",
            " 8   Actor 2   11979 non-null  object \n",
            " 9   Actor 3   11979 non-null  object \n",
            "dtypes: float64(1), int64(3), object(6)\n",
            "memory usage: 1.0+ MB\n"
          ]
        }
      ]
    },
    {
      "cell_type": "code",
      "source": [
        "# Group data by Year and calculate the average rating\n",
        "avg_rating_by_year = imdb_df.groupby(['Year', 'Genre'])['Rating'].mean().reset_index()\n",
        "\n",
        "# Get the top 10 genres\n",
        "top_genres = imdb_df['Genre'].value_counts().head(10).index\n",
        "\n",
        "# Filter the data to include only the top 3 genres\n",
        "average_rating_by_year = avg_rating_by_year[avg_rating_by_year['Genre'].isin(top_genres)]\n",
        "\n",
        "# Create the line plot with Plotly Express\n",
        "fig = px.line(avg_rating_by_year, x='Year', y='Rating', color = \"Genre\")\n",
        "\n",
        "# Updating the detals into chart like title and hue\n",
        "fig.update_layout(title='Average Rating by Year for Top Genres', xaxis_title='Year', yaxis_title='Average Rating')\n",
        "\n",
        "# Show the plot\n",
        "fig.show()"
      ],
      "metadata": {
        "colab": {
          "base_uri": "https://localhost:8080/",
          "height": 542
        },
        "id": "vh7h7uIK7q0f",
        "outputId": "950d61ff-f675-43e8-db54-147c2bb76b12"
      },
      "execution_count": 89,
      "outputs": [
        {
          "output_type": "display_data",
          "data": {
            "text/html": [
              "<html>\n",
              "<head><meta charset=\"utf-8\" /></head>\n",
              "<body>\n",
              "    <div>            <script src=\"https://cdnjs.cloudflare.com/ajax/libs/mathjax/2.7.5/MathJax.js?config=TeX-AMS-MML_SVG\"></script><script type=\"text/javascript\">if (window.MathJax && window.MathJax.Hub && window.MathJax.Hub.Config) {window.MathJax.Hub.Config({SVG: {font: \"STIX-Web\"}});}</script>                <script type=\"text/javascript\">window.PlotlyConfig = {MathJaxConfig: 'local'};</script>\n",
              "        <script charset=\"utf-8\" src=\"https://cdn.plot.ly/plotly-2.24.1.min.js\"></script>                <div id=\"ff1181de-feb7-4c65-804c-6d70f15ee767\" class=\"plotly-graph-div\" style=\"height:525px; width:100%;\"></div>            <script type=\"text/javascript\">                                    window.PLOTLYENV=window.PLOTLYENV || {};                                    if (document.getElementById(\"ff1181de-feb7-4c65-804c-6d70f15ee767\")) {                    Plotly.newPlot(                        \"ff1181de-feb7-4c65-804c-6d70f15ee767\",                        [{\"hovertemplate\":\"Genre=Drama\\u003cbr\\u003eYear=%{x}\\u003cbr\\u003eRating=%{y}\\u003cextra\\u003e\\u003c\\u002fextra\\u003e\",\"legendgroup\":\"Drama\",\"line\":{\"color\":\"#636efa\",\"dash\":\"solid\"},\"marker\":{\"symbol\":\"circle\"},\"mode\":\"lines\",\"name\":\"Drama\",\"showlegend\":true,\"x\":[1931,1933,1934,1935,1936,1937,1938,1939,1940,1941,1942,1943,1944,1945,1946,1947,1948,1949,1950,1951,1952,1953,1954,1955,1956,1957,1958,1959,1960,1961,1962,1963,1964,1965,1966,1967,1968,1969,1970,1971,1972,1973,1974,1975,1976,1977,1978,1979,1980,1981,1982,1983,1984,1985,1986,1987,1988,1989,1990,1991,1992,1993,1994,1995,1996,1997,1998,1999,2000,2001,2002,2003,2004,2005,2006,2007,2008,2009,2010,2011,2012,2013,2014,2015,2016,2017,2018,2019,2020,2021],\"xaxis\":\"x\",\"y\":[5.75,6.2,8.5,6.633333333333333,6.3500000000000005,6.525,6.05,6.4,6.859999999999999,6.475,6.783333333333334,7.257142857142857,7.033333333333334,6.466666666666666,6.933333333333334,6.85,6.8875,6.99,6.806666666666667,6.618181818181818,7.408333333333334,7.161538461538461,6.493333333333334,6.823529411764706,6.592307692307693,7.131818181818182,6.42,6.746666666666667,6.921052631578948,6.8,6.515789473684211,6.504545454545454,6.72,6.75,6.653571428571429,6.64375,6.513333333333334,6.4,6.861764705882353,6.685714285714286,6.373809523809523,6.511428571428572,6.732558139534884,6.625,6.3625,6.462790697674418,6.561111111111111,6.371794871794871,6.43,6.5,6.51,6.519148936170212,6.191304347826088,6.290909090909091,6.005357142857143,5.854054054054054,6.032,5.874193548387097,5.524528301886793,5.5653061224489795,5.657692307692307,5.46271186440678,5.346296296296296,5.343181818181818,5.5260869565217385,5.679245283018868,5.789795918367346,5.540816326530612,5.484615384615385,5.58,5.415254237288136,5.354166666666667,5.311764705882353,5.729126213592234,5.495945945945945,5.7552941176470584,5.478571428571429,5.583529411764706,5.527722772277227,5.642708333333334,6.150769230769231,5.965137614678899,5.940217391304348,5.922641509433962,6.214423076923077,6.142276422764228,6.440625,6.447260273972603,6.392941176470588,6.797435897435898],\"yaxis\":\"y\",\"type\":\"scattergl\"},{\"hovertemplate\":\"Genre=Fantasy\\u003cbr\\u003eYear=%{x}\\u003cbr\\u003eRating=%{y}\\u003cextra\\u003e\\u003c\\u002fextra\\u003e\",\"legendgroup\":\"Fantasy\",\"line\":{\"color\":\"#EF553B\",\"dash\":\"solid\"},\"marker\":{\"symbol\":\"circle\"},\"mode\":\"lines\",\"name\":\"Fantasy\",\"showlegend\":true,\"x\":[1931,1934,1940,1943,1950,1951,1952,1953,1954,1955,1958,1959,1961,1962,1963,1964,1965,1966,1967,1968,1971,1972,1973,1974,1975,1976,1978,1979,1980,1981,1982,1983,1985,1986,1987,1989,1990,1991,1992,1993,1994,1995,1996,1997,1999,2000,2001,2002,2003,2004,2005,2006,2007,2008,2009,2010,2011,2012,2013,2014,2015,2016,2017,2018,2019,2020,2021],\"xaxis\":\"x\",\"y\":[6.2,2.7,7.9,7.2,6.4,7.2,5.9,6.3,7.300000000000001,6.1,7.25,5.3,7.5,7.5,6.1,6.1,7.3,6.766666666666667,6.4,6.199999999999999,6.6,5.6,6.35,6.9,7.025,7.0,6.6,6.7,5.7,6.9,7.5,6.7,5.675,6.5,7.0,4.65,5.666666666666667,5.550000000000001,5.666666666666667,5.55,6.5,6.766666666666667,4.8999999999999995,6.0,4.7,5.3,5.533333333333334,4.933333333333334,4.45,4.033333333333333,5.05,4.2,7.9,2.8,4.8500000000000005,4.725,5.449999999999999,6.26,6.65,6.8,5.5,5.62,5.475,7.233333333333333,4.15,6.1,9.1],\"yaxis\":\"y\",\"type\":\"scattergl\"},{\"hovertemplate\":\"Genre=Musical\\u003cbr\\u003eYear=%{x}\\u003cbr\\u003eRating=%{y}\\u003cextra\\u003e\\u003c\\u002fextra\\u003e\",\"legendgroup\":\"Musical\",\"line\":{\"color\":\"#00cc96\",\"dash\":\"solid\"},\"marker\":{\"symbol\":\"circle\"},\"mode\":\"lines\",\"name\":\"Musical\",\"showlegend\":true,\"x\":[1932,1936,1942,1943,1944,1946,1947,1948,1949,1950,1951,1952,1953,1954,1955,1956,1957,1958,1959,1960,1961,1962,1963,1964,1965,1966,1967,1968,1969,1970,1971,1972,1973,1974,1975,1977,1978,1979,1980,1981,1982,1983,1984,1985,1986,1987,1988,1989,1990,1991,1992,1993,1994,1995,1996,1997,1998,1999,2000,2001,2002,2003,2004,2005,2006,2007,2008,2009,2010,2011,2012,2013,2014,2015,2016,2017,2018,2019,2020,2021],\"xaxis\":\"x\",\"y\":[6.0,6.5,6.8,7.5,7.2,7.3,7.7,6.833333333333333,7.133333333333333,7.2,7.45,7.4,7.233333333333333,6.6499999999999995,7.1000000000000005,7.26,7.6,7.0625,6.942857142857143,7.125,7.116666666666667,7.1,6.459999999999999,7.31,6.844444444444445,6.8,6.725,6.8999999999999995,6.88,6.628571428571428,6.959999999999999,7.24,7.116666666666667,6.671428571428572,6.949999999999999,6.925,6.800000000000001,7.140000000000001,6.56,6.883333333333333,6.933333333333334,5.966666666666666,6.8,6.9399999999999995,7.3,6.475,7.8,6.4,6.95,6.257142857142858,5.566666666666666,5.633333333333333,6.675,5.375,6.0,5.7272727272727275,5.466666666666666,5.971428571428571,5.390909090909091,5.672727272727273,5.3133333333333335,4.7444444444444445,4.892307692307693,5.266666666666667,5.285714285714286,4.516666666666667,2.966666666666667,5.271428571428571,5.8,5.75,5.483333333333333,5.866666666666667,5.3500000000000005,3.966666666666667,6.0,4.55,2.8,5.4,5.966666666666666,4.1000000000000005],\"yaxis\":\"y\",\"type\":\"scattergl\"},{\"hovertemplate\":\"Genre=Romance\\u003cbr\\u003eYear=%{x}\\u003cbr\\u003eRating=%{y}\\u003cextra\\u003e\\u003c\\u002fextra\\u003e\",\"legendgroup\":\"Romance\",\"line\":{\"color\":\"#ab63fa\",\"dash\":\"solid\"},\"marker\":{\"symbol\":\"circle\"},\"mode\":\"lines\",\"name\":\"Romance\",\"showlegend\":true,\"x\":[1932,1933,1936,1937,1938,1939,1943,1944,1946,1947,1948,1949,1950,1951,1952,1953,1954,1955,1956,1957,1958,1959,1960,1961,1962,1963,1964,1965,1966,1967,1968,1969,1970,1971,1972,1973,1974,1975,1976,1977,1978,1979,1980,1981,1982,1983,1984,1985,1986,1987,1988,1989,1990,1991,1992,1993,1994,1995,1996,1997,1998,1999,2000,2001,2002,2003,2004,2005,2006,2007,2008,2009,2010,2011,2012,2013,2014,2015,2016,2017,2018,2019,2020,2021],\"xaxis\":\"x\",\"y\":[6.0,6.2,6.35,5.9,5.2,6.4,7.5,7.166666666666667,7.1,6.433333333333334,7.140000000000001,7.0,7.0,6.959999999999999,7.3500000000000005,7.2,6.475,7.3,6.314285714285715,7.141666666666667,6.8,6.7555555555555555,6.875,6.5375,6.833333333333333,6.607692307692308,6.708333333333333,6.95625,6.590000000000001,6.728571428571429,6.58125,6.463157894736842,6.8625,6.7266666666666675,6.363636363636363,6.7,6.689473684210526,6.96,6.382352941176471,6.7299999999999995,6.718181818181819,6.792857142857143,6.566666666666666,6.609999999999999,6.5600000000000005,6.473333333333333,6.0636363636363635,6.214285714285714,6.33,6.266666666666667,5.483333333333333,6.375,5.872727272727272,5.604347826086957,5.55,5.044827586206897,5.133333333333334,4.761111111111111,5.671428571428571,5.08125,5.604761904761905,5.171428571428572,5.104347826086957,5.492592592592593,4.990625,5.487096774193549,4.685185185185185,4.705882352941177,5.075675675675676,5.163333333333333,5.174074074074074,5.247058823529412,5.203703703703703,5.504761904761905,5.1499999999999995,5.561764705882353,5.340476190476191,5.453488372093023,4.703448275862069,5.490322580645161,5.7696969696969695,6.178787878787879,5.791666666666667,6.336363636363637],\"yaxis\":\"y\",\"type\":\"scattergl\"},{\"hovertemplate\":\"Genre=Adventure\\u003cbr\\u003eYear=%{x}\\u003cbr\\u003eRating=%{y}\\u003cextra\\u003e\\u003c\\u002fextra\\u003e\",\"legendgroup\":\"Adventure\",\"line\":{\"color\":\"#FFA15A\",\"dash\":\"solid\"},\"marker\":{\"symbol\":\"circle\"},\"mode\":\"lines\",\"name\":\"Adventure\",\"showlegend\":true,\"x\":[1934,1935,1936,1937,1938,1939,1940,1942,1952,1953,1954,1955,1956,1957,1958,1959,1960,1961,1962,1963,1964,1965,1966,1967,1968,1969,1971,1972,1975,1976,1977,1978,1979,1980,1981,1982,1983,1984,1985,1986,1987,1988,1989,1991,1992,1993,1994,1996,1997,1998,2000,2001,2002,2003,2004,2005,2006,2007,2008,2009,2010,2011,2012,2013,2014,2015,2016,2017,2018,2019,2020,2021],\"xaxis\":\"x\",\"y\":[2.7,4.3,3.1,3.4,6.4,6.6,6.1,6.6,6.6000000000000005,7.3,6.266666666666667,6.0,6.025,6.866666666666667,5.475,6.2,6.449999999999999,7.4,6.9,6.12,5.783333333333334,6.56,5.82,5.8,5.800000000000001,6.5,6.8999999999999995,6.65,6.5,6.7,6.28,6.075,6.685714285714285,6.65,6.459999999999999,5.8,7.8,6.95,5.4,6.659999999999999,5.1,6.133333333333333,2.9,6.066666666666666,5.55,7.050000000000001,7.8,6.0,5.95,5.466666666666666,5.12,6.7,5.466666666666666,4.95,3.4,5.333333333333333,6.014285714285714,5.3999999999999995,3.7399999999999998,4.6,4.942857142857143,3.9,6.0875,6.4375,5.6,6.1499999999999995,6.218181818181819,5.763636363636364,6.65,5.791666666666667,6.550000000000001,6.5],\"yaxis\":\"y\",\"type\":\"scattergl\"},{\"hovertemplate\":\"Genre=Action\\u003cbr\\u003eYear=%{x}\\u003cbr\\u003eRating=%{y}\\u003cextra\\u003e\\u003c\\u002fextra\\u003e\",\"legendgroup\":\"Action\",\"line\":{\"color\":\"#19d3f3\",\"dash\":\"solid\"},\"marker\":{\"symbol\":\"circle\"},\"mode\":\"lines\",\"name\":\"Action\",\"showlegend\":true,\"x\":[1935,1939,1940,1951,1952,1953,1954,1955,1956,1957,1958,1959,1960,1961,1962,1963,1964,1965,1966,1967,1968,1969,1970,1971,1972,1973,1974,1975,1976,1977,1978,1979,1980,1981,1982,1983,1984,1985,1986,1987,1988,1989,1990,1991,1992,1993,1994,1995,1996,1997,1998,1999,2000,2001,2002,2003,2004,2005,2006,2007,2008,2009,2010,2011,2012,2013,2014,2015,2016,2017,2018,2019,2020,2021],\"xaxis\":\"x\",\"y\":[4.5,6.6,6.1,6.550000000000001,6.95,5.949999999999999,6.15,6.3,6.2,6.8,6.033333333333334,6.225,6.640000000000001,6.25,5.666666666666667,6.14,5.7,6.257142857142857,6.3125,6.016666666666667,6.2,6.32,6.207692307692308,6.214285714285714,5.864705882352942,6.22,6.369230769230769,6.371428571428572,6.076470588235294,5.823076923076924,6.2625,6.078947368421052,6.4639999999999995,6.1499999999999995,6.132000000000001,5.961904761904762,5.746666666666667,5.7,5.862962962962963,5.5636363636363635,5.474285714285714,5.521739130434782,5.386842105263158,5.1775,5.478378378378378,5.3,5.071428571428571,5.174418604651163,5.175675675675675,5.160526315789474,5.062162162162163,5.2924999999999995,4.9184210526315795,5.387096774193548,5.220512820512821,4.833333333333333,5.174418604651163,5.447826086956522,4.8,5.23,4.9678571428571425,4.934210526315789,5.277777777777778,5.290909090909091,5.4423076923076925,5.288095238095238,5.152777777777778,5.697297297297298,5.6421052631578945,5.935135135135135,5.814705882352941,5.764705882352941,5.896,5.9125],\"yaxis\":\"y\",\"type\":\"scattergl\"},{\"hovertemplate\":\"Genre=Biography\\u003cbr\\u003eYear=%{x}\\u003cbr\\u003eRating=%{y}\\u003cextra\\u003e\\u003c\\u002fextra\\u003e\",\"legendgroup\":\"Biography\",\"line\":{\"color\":\"#FF6692\",\"dash\":\"solid\"},\"marker\":{\"symbol\":\"circle\"},\"mode\":\"lines\",\"name\":\"Biography\",\"showlegend\":true,\"x\":[1937,1940,1947,1952,1953,1954,1957,1965,1966,1970,1971,1976,1977,1978,1980,1982,1983,1988,1990,1993,1994,1998,2001,2002,2005,2006,2007,2008,2010,2011,2012,2013,2014,2015,2016,2017,2018,2019,2020,2021],\"xaxis\":\"x\",\"y\":[6.7,8.1,6.8,7.6,6.9,7.0,7.0,7.9,7.949999999999999,7.0,7.5,6.7,7.0,7.7,7.1,7.233333333333333,7.3,8.2,6.8500000000000005,7.9,7.6,6.6,6.5,6.6499999999999995,6.8,5.25,7.3,6.566666666666666,7.0,6.433333333333334,8.2,6.714285714285714,7.025,6.725,7.036363636363637,6.7,7.050000000000001,6.638461538461538,4.95,5.24],\"yaxis\":\"y\",\"type\":\"scattergl\"},{\"hovertemplate\":\"Genre=Family\\u003cbr\\u003eYear=%{x}\\u003cbr\\u003eRating=%{y}\\u003cextra\\u003e\\u003c\\u002fextra\\u003e\",\"legendgroup\":\"Family\",\"line\":{\"color\":\"#B6E880\",\"dash\":\"solid\"},\"marker\":{\"symbol\":\"circle\"},\"mode\":\"lines\",\"name\":\"Family\",\"showlegend\":true,\"x\":[1937,1942,1943,1948,1949,1950,1951,1953,1954,1955,1957,1958,1959,1960,1961,1962,1963,1964,1965,1966,1967,1968,1969,1970,1971,1972,1973,1974,1975,1976,1977,1978,1979,1980,1981,1982,1983,1984,1985,1986,1987,1988,1989,1990,1991,1992,1993,1994,1995,1996,1997,1998,1999,2000,2001,2002,2003,2004,2005,2006,2007,2008,2009,2010,2011,2012,2013,2014,2015,2016,2017,2018,2019,2020,2021],\"xaxis\":\"x\",\"y\":[5.9,6.2,7.2,6.6,6.833333333333333,6.85,7.0,7.05,6.575,7.25,7.279999999999999,6.5,6.5,6.6,6.6000000000000005,6.58,6.6,6.875,6.575,6.6000000000000005,6.416666666666667,6.466666666666666,6.228571428571429,6.45,6.62,6.575,6.271428571428571,6.833333333333333,6.333333333333333,6.42,6.8,6.855555555555556,6.172727272727273,6.216666666666666,6.872727272727272,6.369230769230769,6.38,5.977777777777778,6.216666666666666,6.720000000000001,5.8,5.333333333333333,6.01,4.5,4.1,5.833333333333333,5.8,5.949999999999999,3.8499999999999996,5.5,6.666666666666667,4.7,6.2,6.416666666666667,5.1499999999999995,6.34,5.2,5.633333333333333,5.985714285714286,5.65,6.540000000000001,5.071428571428571,6.0,6.144444444444444,6.214285714285714,6.181818181818182,6.6499999999999995,5.416666666666667,5.788888888888889,6.775,6.355555555555556,6.277777777777778,7.6000000000000005,7.6000000000000005,7.375],\"yaxis\":\"y\",\"type\":\"scattergl\"},{\"hovertemplate\":\"Genre=Mystery\\u003cbr\\u003eYear=%{x}\\u003cbr\\u003eRating=%{y}\\u003cextra\\u003e\\u003c\\u002fextra\\u003e\",\"legendgroup\":\"Mystery\",\"line\":{\"color\":\"#FF97FF\",\"dash\":\"solid\"},\"marker\":{\"symbol\":\"circle\"},\"mode\":\"lines\",\"name\":\"Mystery\",\"showlegend\":true,\"x\":[1941,1943,1949,1950,1952,1957,1958,1959,1960,1962,1963,1964,1965,1966,1967,1968,1969,1970,1971,1973,1974,1975,1977,1978,1979,1980,1981,1982,1984,1985,1986,1987,1988,1989,1991,1992,1993,1994,1996,1997,1998,1999,2000,2001,2002,2003,2004,2005,2006,2007,2008,2009,2010,2011,2012,2013,2014,2015,2016,2017,2018,2019,2020,2021],\"xaxis\":\"x\",\"y\":[7.0,3.3,7.1,7.1,7.3,6.5,7.0,6.75,6.95,6.949999999999999,5.7,7.3,6.566666666666666,6.525,6.8500000000000005,6.95,6.825,6.5,6.933333333333334,6.566666666666666,6.666666666666667,6.24,6.5,6.4,6.05,6.125,6.24,7.3,4.8,5.2,7.15,5.1,6.0,6.125,4.0,7.2,5.025,4.4,5.0,5.75,3.75,7.8,5.033333333333333,5.833333333333333,5.449999999999999,4.675,4.866666666666666,5.3533333333333335,5.266666666666667,6.233333333333333,5.61,5.576923076923077,5.4,5.328571428571428,6.05,4.6571428571428575,5.285714285714286,5.883333333333333,5.691666666666666,5.661538461538461,5.572727272727272,6.923076923076923,6.13,5.5],\"yaxis\":\"y\",\"type\":\"scattergl\"},{\"hovertemplate\":\"Genre=History\\u003cbr\\u003eYear=%{x}\\u003cbr\\u003eRating=%{y}\\u003cextra\\u003e\\u003c\\u002fextra\\u003e\",\"legendgroup\":\"History\",\"line\":{\"color\":\"#FECB52\",\"dash\":\"solid\"},\"marker\":{\"symbol\":\"circle\"},\"mode\":\"lines\",\"name\":\"History\",\"showlegend\":true,\"x\":[1942,1945,1946,1949,1950,1952,1953,1956,1957,1958,1959,1965,1966,1967,1968,1971,1975,1976,1977,1979,1982,1993,1994,1995,1997,2000,2001,2002,2003,2005,2006,2007,2008,2009,2010,2011,2012,2013,2014,2015,2016,2017,2018,2019,2020,2021],\"xaxis\":\"x\",\"y\":[6.6,7.5,6.9,6.2,6.4,7.3,6.766666666666667,6.6,7.05,6.1,6.7,7.9,8.2,6.0,7.1,7.0,6.3,6.7,7.3,7.44,7.25,7.9,7.2,7.2,7.9,7.9,6.2,6.166666666666667,5.95,6.58,6.6,7.359999999999999,7.5,5.8,6.199999999999999,5.25,7.275,6.833333333333333,7.3999999999999995,6.125,7.8,6.3999999999999995,7.028571428571429,7.616666666666667,3.8,9.3],\"yaxis\":\"y\",\"type\":\"scattergl\"},{\"hovertemplate\":\"Genre=Comedy\\u003cbr\\u003eYear=%{x}\\u003cbr\\u003eRating=%{y}\\u003cextra\\u003e\\u003c\\u002fextra\\u003e\",\"legendgroup\":\"Comedy\",\"line\":{\"color\":\"#636efa\",\"dash\":\"solid\"},\"marker\":{\"symbol\":\"circle\"},\"mode\":\"lines\",\"name\":\"Comedy\",\"showlegend\":true,\"x\":[1943,1946,1947,1949,1950,1951,1952,1953,1954,1955,1956,1957,1958,1959,1960,1961,1962,1963,1964,1965,1966,1967,1968,1969,1970,1971,1972,1973,1974,1975,1976,1977,1978,1979,1980,1981,1982,1983,1984,1985,1986,1987,1988,1989,1990,1991,1992,1993,1994,1995,1996,1997,1998,1999,2000,2001,2002,2003,2004,2005,2006,2007,2008,2009,2010,2011,2012,2013,2014,2015,2016,2017,2018,2019,2020,2021],\"xaxis\":\"x\",\"y\":[6.9,6.5,7.4,6.4,7.1,6.65,7.4,6.7,6.966666666666666,7.109999999999999,6.655555555555555,7.0,7.5,7.45,6.725,6.866666666666666,6.466666666666667,6.8428571428571425,6.6499999999999995,6.1,6.945454545454546,6.5,6.216666666666666,6.2555555555555555,6.7555555555555555,6.62,6.3428571428571425,6.275,6.583333333333333,6.57,6.871428571428572,6.4750000000000005,6.636363636363637,6.55,6.85,6.681818181818182,6.608333333333333,6.43125,6.442857142857143,6.180000000000001,6.3,6.0,6.228571428571429,5.733333333333333,5.87,5.64,6.066666666666666,5.625,5.8100000000000005,5.571428571428571,5.79375,5.705555555555556,5.7700000000000005,5.17,4.86875,5.389473684210526,4.984210526315789,5.425,4.95,5.411111111111111,5.55,5.5525,5.154761904761905,5.397872340425532,5.627999999999999,5.282456140350877,5.440384615384615,5.334782608695653,5.4,5.411666666666666,5.191666666666666,5.7784313725490195,5.694642857142857,5.901724137931034,5.756410256410256,6.300000000000001],\"yaxis\":\"y\",\"type\":\"scattergl\"},{\"hovertemplate\":\"Genre=War\\u003cbr\\u003eYear=%{x}\\u003cbr\\u003eRating=%{y}\\u003cextra\\u003e\\u003c\\u002fextra\\u003e\",\"legendgroup\":\"War\",\"line\":{\"color\":\"#EF553B\",\"dash\":\"solid\"},\"marker\":{\"symbol\":\"circle\"},\"mode\":\"lines\",\"name\":\"War\",\"showlegend\":true,\"x\":[1945,1947,1960,1964,1967,1973,1993,1995,1998,2003,2004,2005,2007,2011,2012,2013,2014,2015,2017,2018,2019,2020],\"xaxis\":\"x\",\"y\":[5.4,6.8,6.8,7.8,7.5,6.2,5.9,6.7,7.2,5.2,4.6,7.4,8.1,3.6,6.15,6.1,7.050000000000001,5.3,5.699999999999999,8.2,2.8,5.125],\"yaxis\":\"y\",\"type\":\"scattergl\"},{\"hovertemplate\":\"Genre=Crime\\u003cbr\\u003eYear=%{x}\\u003cbr\\u003eRating=%{y}\\u003cextra\\u003e\\u003c\\u002fextra\\u003e\",\"legendgroup\":\"Crime\",\"line\":{\"color\":\"#00cc96\",\"dash\":\"solid\"},\"marker\":{\"symbol\":\"circle\"},\"mode\":\"lines\",\"name\":\"Crime\",\"showlegend\":true,\"x\":[1949,1950,1951,1952,1953,1954,1955,1956,1957,1958,1959,1960,1961,1962,1963,1965,1966,1967,1968,1969,1970,1971,1972,1973,1974,1975,1976,1977,1978,1979,1980,1981,1982,1983,1984,1985,1986,1987,1988,1989,1990,1991,1992,1993,1994,1995,1996,1997,1998,1999,2000,2001,2002,2003,2004,2005,2006,2007,2008,2009,2010,2011,2012,2013,2014,2015,2016,2017,2018,2019,2020,2021],\"xaxis\":\"x\",\"y\":[7.45,7.1,7.3,7.2,7.55,6.2,6.58,6.466666666666666,7.05,6.833333333333333,6.949999999999999,7.220000000000001,6.3999999999999995,5.7,6.666666666666667,6.35,6.5,6.614285714285714,6.36,6.55,5.86,6.333333333333333,5.983333333333333,6.0,6.325,6.1625,6.2727272727272725,6.185714285714285,6.016666666666667,6.575,6.55,6.345454545454545,6.1571428571428575,6.771428571428571,5.728571428571429,5.884615384615385,6.5,5.840000000000001,6.109090909090909,5.496428571428572,5.329411764705882,4.83,5.738461538461538,5.75,4.891666666666667,5.3,5.288888888888889,5.8428571428571425,5.869230769230769,5.864285714285714,5.036842105263158,5.0,5.564285714285715,5.883333333333333,5.652380952380953,5.738095238095238,5.165217391304347,5.125925925925926,5.590625,5.482352941176471,5.614705882352942,5.534285714285714,5.577272727272727,5.403703703703704,6.025925925925925,6.3999999999999995,6.179166666666667,6.115,5.89375,6.382608695652174,6.665217391304348,5.62],\"yaxis\":\"y\",\"type\":\"scattergl\"},{\"hovertemplate\":\"Genre=Horror\\u003cbr\\u003eYear=%{x}\\u003cbr\\u003eRating=%{y}\\u003cextra\\u003e\\u003c\\u002fextra\\u003e\",\"legendgroup\":\"Horror\",\"line\":{\"color\":\"#ab63fa\",\"dash\":\"solid\"},\"marker\":{\"symbol\":\"circle\"},\"mode\":\"lines\",\"name\":\"Horror\",\"showlegend\":true,\"x\":[1949,1963,1965,1971,1972,1977,1978,1979,1980,1981,1984,1985,1986,1987,1988,1989,1990,1991,1992,1993,1994,1996,1997,1998,1999,2000,2001,2002,2003,2004,2005,2006,2007,2008,2009,2010,2011,2012,2013,2014,2015,2016,2017,2018,2019,2020,2021],\"xaxis\":\"x\",\"y\":[7.1,5.7,6.5,6.8,6.05,6.1,6.0,6.05,6.699999999999999,6.35,5.7,5.6,5.4,4.199999999999999,4.566666666666666,4.6,5.1,5.16,5.1499999999999995,6.3,4.4,2.45,4.2,4.3,4.2,3.1,4.7,5.4,4.39,4.516666666666667,4.816666666666666,4.633333333333334,5.233333333333333,4.333333333333333,5.26,3.9899999999999998,5.033333333333333,4.325,4.075,3.7636363636363637,3.466666666666667,4.3625,5.254545454545454,5.96,5.14,5.038461538461538,4.3999999999999995],\"yaxis\":\"y\",\"type\":\"scattergl\"},{\"hovertemplate\":\"Genre=Thriller\\u003cbr\\u003eYear=%{x}\\u003cbr\\u003eRating=%{y}\\u003cextra\\u003e\\u003c\\u002fextra\\u003e\",\"legendgroup\":\"Thriller\",\"line\":{\"color\":\"#FFA15A\",\"dash\":\"solid\"},\"marker\":{\"symbol\":\"circle\"},\"mode\":\"lines\",\"name\":\"Thriller\",\"showlegend\":true,\"x\":[1952,1954,1957,1958,1959,1960,1962,1964,1965,1966,1967,1968,1969,1970,1971,1972,1973,1974,1975,1976,1977,1978,1979,1980,1981,1982,1983,1984,1985,1986,1987,1988,1989,1990,1991,1992,1993,1994,1995,1996,1997,1998,1999,2000,2001,2002,2003,2004,2005,2006,2007,2008,2009,2010,2011,2012,2013,2014,2015,2016,2017,2018,2019,2020,2021],\"xaxis\":\"x\",\"y\":[7.2,6.6,6.8,6.233333333333333,6.7,6.4,6.949999999999999,6.566666666666666,6.825,6.0,6.733333333333333,6.725,6.5,6.675,6.466666666666666,6.5,6.155555555555555,6.6,6.1125,6.35,5.733333333333333,6.8,6.433333333333334,6.1125,6.366666666666666,5.900000000000001,4.5,5.75,6.1499999999999995,6.655555555555555,5.6000000000000005,5.35,6.0,5.55,5.644444444444444,5.885714285714286,5.022222222222222,5.91,5.76,4.59,4.95,4.6,5.6000000000000005,5.357142857142857,5.9,5.14,4.91875,4.973684210526316,4.6230769230769235,5.183333333333334,4.3,5.608333333333333,6.0249999999999995,5.23125,5.715,5.052380952380952,5.4,5.446428571428571,5.794444444444444,6.1625,6.0,5.515625,5.697058823529411,5.444,5.3545454545454545],\"yaxis\":\"y\",\"type\":\"scattergl\"},{\"hovertemplate\":\"Genre=Music\\u003cbr\\u003eYear=%{x}\\u003cbr\\u003eRating=%{y}\\u003cextra\\u003e\\u003c\\u002fextra\\u003e\",\"legendgroup\":\"Music\",\"line\":{\"color\":\"#19d3f3\",\"dash\":\"solid\"},\"marker\":{\"symbol\":\"circle\"},\"mode\":\"lines\",\"name\":\"Music\",\"showlegend\":true,\"x\":[1956,1962,1967,1973,1975,1980,1983,1984,1986,1987,1989,1994,1995,1996,1997,1998,2003,2004,2006,2007,2008,2009,2010,2011,2012,2013,2015,2016,2017,2018,2019,2020,2021],\"xaxis\":\"x\",\"y\":[6.6,6.7,6.7,7.0,4.4,7.9,5.8,6.9,4.1,4.6,6.6,7.8,2.6,7.2,6.6,5.1,7.2,6.7,4.966666666666667,5.4,7.933333333333334,6.166666666666667,5.0,7.7,5.6,6.65,6.25,5.233333333333333,5.55,5.6,8.0,4.8,9.7],\"yaxis\":\"y\",\"type\":\"scattergl\"},{\"hovertemplate\":\"Genre=Sci-Fi\\u003cbr\\u003eYear=%{x}\\u003cbr\\u003eRating=%{y}\\u003cextra\\u003e\\u003c\\u002fextra\\u003e\",\"legendgroup\":\"Sci-Fi\",\"line\":{\"color\":\"#FF6692\",\"dash\":\"solid\"},\"marker\":{\"symbol\":\"circle\"},\"mode\":\"lines\",\"name\":\"Sci-Fi\",\"showlegend\":true,\"x\":[1964,1968,1985,1986,1987,2003,2004,2006,2007,2009,2010,2011,2012,2013,2014,2016,2018,2019,2021],\"xaxis\":\"x\",\"y\":[6.3,6.8,5.9,7.3,4.5,7.0,2.7,4.550000000000001,6.2,5.0,4.7,4.0,3.6999999999999997,5.033333333333333,4.725,7.3,5.65,6.1,9.3],\"yaxis\":\"y\",\"type\":\"scattergl\"},{\"hovertemplate\":\"Genre=Sport\\u003cbr\\u003eYear=%{x}\\u003cbr\\u003eRating=%{y}\\u003cextra\\u003e\\u003c\\u002fextra\\u003e\",\"legendgroup\":\"Sport\",\"line\":{\"color\":\"#B6E880\",\"dash\":\"solid\"},\"marker\":{\"symbol\":\"circle\"},\"mode\":\"lines\",\"name\":\"Sport\",\"showlegend\":true,\"x\":[1966,1990,2001,2003,2005,2006,2007,2009,2010,2011,2013,2014,2015,2016,2017,2018,2019,2020,2021],\"xaxis\":\"x\",\"y\":[5.6,5.3,8.1,2.6,7.65,4.4,6.375,3.8,6.3,5.8,8.0,6.45,6.5,6.783333333333334,8.3,7.8999999999999995,6.375,6.8,5.4],\"yaxis\":\"y\",\"type\":\"scattergl\"},{\"hovertemplate\":\"Genre=Documentary\\u003cbr\\u003eYear=%{x}\\u003cbr\\u003eRating=%{y}\\u003cextra\\u003e\\u003c\\u002fextra\\u003e\",\"legendgroup\":\"Documentary\",\"line\":{\"color\":\"#FF97FF\",\"dash\":\"solid\"},\"marker\":{\"symbol\":\"circle\"},\"mode\":\"lines\",\"name\":\"Documentary\",\"showlegend\":true,\"x\":[1982,1985,1988,1990,2001,2003,2005,2006,2008,2009,2011,2012,2013,2014,2015,2016,2017,2018,2019,2021],\"xaxis\":\"x\",\"y\":[7.2,7.75,8.2,7.5,7.6,8.6,8.6,6.2,8.5,6.5,7.05,7.2,7.225,7.449999999999999,7.8,6.449999999999999,8.1,6.550000000000001,9.3,7.166666666666667],\"yaxis\":\"y\",\"type\":\"scattergl\"},{\"hovertemplate\":\"Genre=Western\\u003cbr\\u003eYear=%{x}\\u003cbr\\u003eRating=%{y}\\u003cextra\\u003e\\u003c\\u002fextra\\u003e\",\"legendgroup\":\"Western\",\"line\":{\"color\":\"#FECB52\",\"dash\":\"solid\"},\"marker\":{\"symbol\":\"circle\"},\"mode\":\"lines\",\"name\":\"Western\",\"showlegend\":true,\"x\":[1989],\"xaxis\":\"x\",\"y\":[5.7],\"yaxis\":\"y\",\"type\":\"scattergl\"},{\"hovertemplate\":\"Genre=Animation\\u003cbr\\u003eYear=%{x}\\u003cbr\\u003eRating=%{y}\\u003cextra\\u003e\\u003c\\u002fextra\\u003e\",\"legendgroup\":\"Animation\",\"line\":{\"color\":\"#636efa\",\"dash\":\"solid\"},\"marker\":{\"symbol\":\"circle\"},\"mode\":\"lines\",\"name\":\"Animation\",\"showlegend\":true,\"x\":[2000,2005,2006,2007,2008,2009,2010,2012,2013,2014,2015,2016,2017,2019,2020],\"xaxis\":\"x\",\"y\":[6.8,6.85,5.9,4.6,6.0200000000000005,5.5,5.625,6.26,6.0600000000000005,4.1,4.2,7.266666666666667,5.166666666666667,6.0,7.15],\"yaxis\":\"y\",\"type\":\"scattergl\"},{\"hovertemplate\":\"Genre=News\\u003cbr\\u003eYear=%{x}\\u003cbr\\u003eRating=%{y}\\u003cextra\\u003e\\u003c\\u002fextra\\u003e\",\"legendgroup\":\"News\",\"line\":{\"color\":\"#EF553B\",\"dash\":\"solid\"},\"marker\":{\"symbol\":\"circle\"},\"mode\":\"lines\",\"name\":\"News\",\"showlegend\":true,\"x\":[2011],\"xaxis\":\"x\",\"y\":[8.0],\"yaxis\":\"y\",\"type\":\"scattergl\"}],                        {\"template\":{\"data\":{\"histogram2dcontour\":[{\"type\":\"histogram2dcontour\",\"colorbar\":{\"outlinewidth\":0,\"ticks\":\"\"},\"colorscale\":[[0.0,\"#0d0887\"],[0.1111111111111111,\"#46039f\"],[0.2222222222222222,\"#7201a8\"],[0.3333333333333333,\"#9c179e\"],[0.4444444444444444,\"#bd3786\"],[0.5555555555555556,\"#d8576b\"],[0.6666666666666666,\"#ed7953\"],[0.7777777777777778,\"#fb9f3a\"],[0.8888888888888888,\"#fdca26\"],[1.0,\"#f0f921\"]]}],\"choropleth\":[{\"type\":\"choropleth\",\"colorbar\":{\"outlinewidth\":0,\"ticks\":\"\"}}],\"histogram2d\":[{\"type\":\"histogram2d\",\"colorbar\":{\"outlinewidth\":0,\"ticks\":\"\"},\"colorscale\":[[0.0,\"#0d0887\"],[0.1111111111111111,\"#46039f\"],[0.2222222222222222,\"#7201a8\"],[0.3333333333333333,\"#9c179e\"],[0.4444444444444444,\"#bd3786\"],[0.5555555555555556,\"#d8576b\"],[0.6666666666666666,\"#ed7953\"],[0.7777777777777778,\"#fb9f3a\"],[0.8888888888888888,\"#fdca26\"],[1.0,\"#f0f921\"]]}],\"heatmap\":[{\"type\":\"heatmap\",\"colorbar\":{\"outlinewidth\":0,\"ticks\":\"\"},\"colorscale\":[[0.0,\"#0d0887\"],[0.1111111111111111,\"#46039f\"],[0.2222222222222222,\"#7201a8\"],[0.3333333333333333,\"#9c179e\"],[0.4444444444444444,\"#bd3786\"],[0.5555555555555556,\"#d8576b\"],[0.6666666666666666,\"#ed7953\"],[0.7777777777777778,\"#fb9f3a\"],[0.8888888888888888,\"#fdca26\"],[1.0,\"#f0f921\"]]}],\"heatmapgl\":[{\"type\":\"heatmapgl\",\"colorbar\":{\"outlinewidth\":0,\"ticks\":\"\"},\"colorscale\":[[0.0,\"#0d0887\"],[0.1111111111111111,\"#46039f\"],[0.2222222222222222,\"#7201a8\"],[0.3333333333333333,\"#9c179e\"],[0.4444444444444444,\"#bd3786\"],[0.5555555555555556,\"#d8576b\"],[0.6666666666666666,\"#ed7953\"],[0.7777777777777778,\"#fb9f3a\"],[0.8888888888888888,\"#fdca26\"],[1.0,\"#f0f921\"]]}],\"contourcarpet\":[{\"type\":\"contourcarpet\",\"colorbar\":{\"outlinewidth\":0,\"ticks\":\"\"}}],\"contour\":[{\"type\":\"contour\",\"colorbar\":{\"outlinewidth\":0,\"ticks\":\"\"},\"colorscale\":[[0.0,\"#0d0887\"],[0.1111111111111111,\"#46039f\"],[0.2222222222222222,\"#7201a8\"],[0.3333333333333333,\"#9c179e\"],[0.4444444444444444,\"#bd3786\"],[0.5555555555555556,\"#d8576b\"],[0.6666666666666666,\"#ed7953\"],[0.7777777777777778,\"#fb9f3a\"],[0.8888888888888888,\"#fdca26\"],[1.0,\"#f0f921\"]]}],\"surface\":[{\"type\":\"surface\",\"colorbar\":{\"outlinewidth\":0,\"ticks\":\"\"},\"colorscale\":[[0.0,\"#0d0887\"],[0.1111111111111111,\"#46039f\"],[0.2222222222222222,\"#7201a8\"],[0.3333333333333333,\"#9c179e\"],[0.4444444444444444,\"#bd3786\"],[0.5555555555555556,\"#d8576b\"],[0.6666666666666666,\"#ed7953\"],[0.7777777777777778,\"#fb9f3a\"],[0.8888888888888888,\"#fdca26\"],[1.0,\"#f0f921\"]]}],\"mesh3d\":[{\"type\":\"mesh3d\",\"colorbar\":{\"outlinewidth\":0,\"ticks\":\"\"}}],\"scatter\":[{\"fillpattern\":{\"fillmode\":\"overlay\",\"size\":10,\"solidity\":0.2},\"type\":\"scatter\"}],\"parcoords\":[{\"type\":\"parcoords\",\"line\":{\"colorbar\":{\"outlinewidth\":0,\"ticks\":\"\"}}}],\"scatterpolargl\":[{\"type\":\"scatterpolargl\",\"marker\":{\"colorbar\":{\"outlinewidth\":0,\"ticks\":\"\"}}}],\"bar\":[{\"error_x\":{\"color\":\"#2a3f5f\"},\"error_y\":{\"color\":\"#2a3f5f\"},\"marker\":{\"line\":{\"color\":\"#E5ECF6\",\"width\":0.5},\"pattern\":{\"fillmode\":\"overlay\",\"size\":10,\"solidity\":0.2}},\"type\":\"bar\"}],\"scattergeo\":[{\"type\":\"scattergeo\",\"marker\":{\"colorbar\":{\"outlinewidth\":0,\"ticks\":\"\"}}}],\"scatterpolar\":[{\"type\":\"scatterpolar\",\"marker\":{\"colorbar\":{\"outlinewidth\":0,\"ticks\":\"\"}}}],\"histogram\":[{\"marker\":{\"pattern\":{\"fillmode\":\"overlay\",\"size\":10,\"solidity\":0.2}},\"type\":\"histogram\"}],\"scattergl\":[{\"type\":\"scattergl\",\"marker\":{\"colorbar\":{\"outlinewidth\":0,\"ticks\":\"\"}}}],\"scatter3d\":[{\"type\":\"scatter3d\",\"line\":{\"colorbar\":{\"outlinewidth\":0,\"ticks\":\"\"}},\"marker\":{\"colorbar\":{\"outlinewidth\":0,\"ticks\":\"\"}}}],\"scattermapbox\":[{\"type\":\"scattermapbox\",\"marker\":{\"colorbar\":{\"outlinewidth\":0,\"ticks\":\"\"}}}],\"scatterternary\":[{\"type\":\"scatterternary\",\"marker\":{\"colorbar\":{\"outlinewidth\":0,\"ticks\":\"\"}}}],\"scattercarpet\":[{\"type\":\"scattercarpet\",\"marker\":{\"colorbar\":{\"outlinewidth\":0,\"ticks\":\"\"}}}],\"carpet\":[{\"aaxis\":{\"endlinecolor\":\"#2a3f5f\",\"gridcolor\":\"white\",\"linecolor\":\"white\",\"minorgridcolor\":\"white\",\"startlinecolor\":\"#2a3f5f\"},\"baxis\":{\"endlinecolor\":\"#2a3f5f\",\"gridcolor\":\"white\",\"linecolor\":\"white\",\"minorgridcolor\":\"white\",\"startlinecolor\":\"#2a3f5f\"},\"type\":\"carpet\"}],\"table\":[{\"cells\":{\"fill\":{\"color\":\"#EBF0F8\"},\"line\":{\"color\":\"white\"}},\"header\":{\"fill\":{\"color\":\"#C8D4E3\"},\"line\":{\"color\":\"white\"}},\"type\":\"table\"}],\"barpolar\":[{\"marker\":{\"line\":{\"color\":\"#E5ECF6\",\"width\":0.5},\"pattern\":{\"fillmode\":\"overlay\",\"size\":10,\"solidity\":0.2}},\"type\":\"barpolar\"}],\"pie\":[{\"automargin\":true,\"type\":\"pie\"}]},\"layout\":{\"autotypenumbers\":\"strict\",\"colorway\":[\"#636efa\",\"#EF553B\",\"#00cc96\",\"#ab63fa\",\"#FFA15A\",\"#19d3f3\",\"#FF6692\",\"#B6E880\",\"#FF97FF\",\"#FECB52\"],\"font\":{\"color\":\"#2a3f5f\"},\"hovermode\":\"closest\",\"hoverlabel\":{\"align\":\"left\"},\"paper_bgcolor\":\"white\",\"plot_bgcolor\":\"#E5ECF6\",\"polar\":{\"bgcolor\":\"#E5ECF6\",\"angularaxis\":{\"gridcolor\":\"white\",\"linecolor\":\"white\",\"ticks\":\"\"},\"radialaxis\":{\"gridcolor\":\"white\",\"linecolor\":\"white\",\"ticks\":\"\"}},\"ternary\":{\"bgcolor\":\"#E5ECF6\",\"aaxis\":{\"gridcolor\":\"white\",\"linecolor\":\"white\",\"ticks\":\"\"},\"baxis\":{\"gridcolor\":\"white\",\"linecolor\":\"white\",\"ticks\":\"\"},\"caxis\":{\"gridcolor\":\"white\",\"linecolor\":\"white\",\"ticks\":\"\"}},\"coloraxis\":{\"colorbar\":{\"outlinewidth\":0,\"ticks\":\"\"}},\"colorscale\":{\"sequential\":[[0.0,\"#0d0887\"],[0.1111111111111111,\"#46039f\"],[0.2222222222222222,\"#7201a8\"],[0.3333333333333333,\"#9c179e\"],[0.4444444444444444,\"#bd3786\"],[0.5555555555555556,\"#d8576b\"],[0.6666666666666666,\"#ed7953\"],[0.7777777777777778,\"#fb9f3a\"],[0.8888888888888888,\"#fdca26\"],[1.0,\"#f0f921\"]],\"sequentialminus\":[[0.0,\"#0d0887\"],[0.1111111111111111,\"#46039f\"],[0.2222222222222222,\"#7201a8\"],[0.3333333333333333,\"#9c179e\"],[0.4444444444444444,\"#bd3786\"],[0.5555555555555556,\"#d8576b\"],[0.6666666666666666,\"#ed7953\"],[0.7777777777777778,\"#fb9f3a\"],[0.8888888888888888,\"#fdca26\"],[1.0,\"#f0f921\"]],\"diverging\":[[0,\"#8e0152\"],[0.1,\"#c51b7d\"],[0.2,\"#de77ae\"],[0.3,\"#f1b6da\"],[0.4,\"#fde0ef\"],[0.5,\"#f7f7f7\"],[0.6,\"#e6f5d0\"],[0.7,\"#b8e186\"],[0.8,\"#7fbc41\"],[0.9,\"#4d9221\"],[1,\"#276419\"]]},\"xaxis\":{\"gridcolor\":\"white\",\"linecolor\":\"white\",\"ticks\":\"\",\"title\":{\"standoff\":15},\"zerolinecolor\":\"white\",\"automargin\":true,\"zerolinewidth\":2},\"yaxis\":{\"gridcolor\":\"white\",\"linecolor\":\"white\",\"ticks\":\"\",\"title\":{\"standoff\":15},\"zerolinecolor\":\"white\",\"automargin\":true,\"zerolinewidth\":2},\"scene\":{\"xaxis\":{\"backgroundcolor\":\"#E5ECF6\",\"gridcolor\":\"white\",\"linecolor\":\"white\",\"showbackground\":true,\"ticks\":\"\",\"zerolinecolor\":\"white\",\"gridwidth\":2},\"yaxis\":{\"backgroundcolor\":\"#E5ECF6\",\"gridcolor\":\"white\",\"linecolor\":\"white\",\"showbackground\":true,\"ticks\":\"\",\"zerolinecolor\":\"white\",\"gridwidth\":2},\"zaxis\":{\"backgroundcolor\":\"#E5ECF6\",\"gridcolor\":\"white\",\"linecolor\":\"white\",\"showbackground\":true,\"ticks\":\"\",\"zerolinecolor\":\"white\",\"gridwidth\":2}},\"shapedefaults\":{\"line\":{\"color\":\"#2a3f5f\"}},\"annotationdefaults\":{\"arrowcolor\":\"#2a3f5f\",\"arrowhead\":0,\"arrowwidth\":1},\"geo\":{\"bgcolor\":\"white\",\"landcolor\":\"#E5ECF6\",\"subunitcolor\":\"white\",\"showland\":true,\"showlakes\":true,\"lakecolor\":\"white\"},\"title\":{\"x\":0.05},\"mapbox\":{\"style\":\"light\"}}},\"xaxis\":{\"anchor\":\"y\",\"domain\":[0.0,1.0],\"title\":{\"text\":\"Year\"}},\"yaxis\":{\"anchor\":\"x\",\"domain\":[0.0,1.0],\"title\":{\"text\":\"Average Rating\"}},\"legend\":{\"title\":{\"text\":\"Genre\"},\"tracegroupgap\":0},\"margin\":{\"t\":60},\"title\":{\"text\":\"Average Rating by Year for Top Genres\"}},                        {\"responsive\": true}                    ).then(function(){\n",
              "                            \n",
              "var gd = document.getElementById('ff1181de-feb7-4c65-804c-6d70f15ee767');\n",
              "var x = new MutationObserver(function (mutations, observer) {{\n",
              "        var display = window.getComputedStyle(gd).display;\n",
              "        if (!display || display === 'none') {{\n",
              "            console.log([gd, 'removed!']);\n",
              "            Plotly.purge(gd);\n",
              "            observer.disconnect();\n",
              "        }}\n",
              "}});\n",
              "\n",
              "// Listen for the removal of the full notebook cells\n",
              "var notebookContainer = gd.closest('#notebook-container');\n",
              "if (notebookContainer) {{\n",
              "    x.observe(notebookContainer, {childList: true});\n",
              "}}\n",
              "\n",
              "// Listen for the clearing of the current output cell\n",
              "var outputEl = gd.closest('.output');\n",
              "if (outputEl) {{\n",
              "    x.observe(outputEl, {childList: true});\n",
              "}}\n",
              "\n",
              "                        })                };                            </script>        </div>\n",
              "</body>\n",
              "</html>"
            ]
          },
          "metadata": {}
        }
      ]
    },
    {
      "cell_type": "code",
      "source": [
        "# Importing essential libraries for model building\n",
        "\n",
        "from sklearn.model_selection import train_test_split, cross_val_score\n",
        "\n",
        "from sklearn.linear_model import LinearRegression\n",
        "\n",
        "from sklearn.metrics import accuracy_score, mean_absolute_error, mean_squared_error, r2_score"
      ],
      "metadata": {
        "id": "gFzb3SDT8Dok"
      },
      "execution_count": 90,
      "outputs": []
    },
    {
      "cell_type": "code",
      "source": [
        "# Dropping Name column because it doesn't impact the outcome\n",
        "imdb_df.drop('Name', axis = 1, inplace = True)"
      ],
      "metadata": {
        "id": "FRwJyDjZ8VB2"
      },
      "execution_count": 91,
      "outputs": []
    },
    {
      "cell_type": "code",
      "source": [
        "# Grouping the columns with their average rating and then creating a new feature\n",
        "\n",
        "genre_mean_rating = imdb_df.groupby('Genre')['Rating'].transform('mean')\n",
        "imdb_df['Genre_mean_rating'] = genre_mean_rating\n",
        "\n",
        "director_mean_rating = imdb_df.groupby('Director')['Rating'].transform('mean')\n",
        "imdb_df['Director_encoded'] = director_mean_rating\n",
        "\n",
        "actor1_mean_rating = imdb_df.groupby('Actor 1')['Rating'].transform('mean')\n",
        "imdb_df['Actor1_encoded'] = actor1_mean_rating\n",
        "\n",
        "actor2_mean_rating = imdb_df.groupby('Actor 2')['Rating'].transform('mean')\n",
        "imdb_df['Actor2_encoded'] = actor2_mean_rating\n",
        "\n",
        "actor3_mean_rating = imdb_df.groupby('Actor 3')['Rating'].transform('mean')\n",
        "imdb_df['Actor3_encoded'] = actor3_mean_rating"
      ],
      "metadata": {
        "id": "BOiWjlHq8xLe"
      },
      "execution_count": 92,
      "outputs": []
    },
    {
      "cell_type": "code",
      "source": [
        "# Keeping the predictor and target variable\n",
        "\n",
        "X = imdb_df[[ 'Year', 'Votes', 'Duration', 'Genre_mean_rating','Director_encoded','Actor1_encoded', 'Actor2_encoded', 'Actor3_encoded']]\n",
        "y = imdb_df['Rating']"
      ],
      "metadata": {
        "id": "Wmi0yLtJ84qh"
      },
      "execution_count": 93,
      "outputs": []
    },
    {
      "cell_type": "code",
      "source": [
        "# Splitting the dataset into training and testing parts\n",
        "\n",
        "X_train,X_test,y_train,y_test = train_test_split(X,y,test_size=0.2,random_state=42)"
      ],
      "metadata": {
        "id": "9BfAC4O69Atm"
      },
      "execution_count": 94,
      "outputs": []
    },
    {
      "cell_type": "code",
      "source": [
        "# Building machine learning model and training them\n",
        "Model = LinearRegression()\n",
        "Model.fit(X_train,y_train)\n",
        "Model_pred = Model.predict(X_test)"
      ],
      "metadata": {
        "id": "UOPu7tgU9Jyl"
      },
      "execution_count": 95,
      "outputs": []
    },
    {
      "cell_type": "code",
      "source": [
        "# Evaluating the performance of model with evaluation metrics\n",
        "\n",
        "print('The performance evaluation of Logistic Regression is below: ', '\\n')\n",
        "print('Mean squared error: ',mean_squared_error(y_test, Model_pred))\n",
        "print('Mean absolute error: ',mean_absolute_error(y_test, Model_pred))\n",
        "print('R2 score: ',r2_score(y_test, Model_pred))"
      ],
      "metadata": {
        "colab": {
          "base_uri": "https://localhost:8080/"
        },
        "id": "QrM3eaRb9OOn",
        "outputId": "d4fc4862-305c-4943-9bdb-e404ac929279"
      },
      "execution_count": 96,
      "outputs": [
        {
          "output_type": "stream",
          "name": "stdout",
          "text": [
            "The performance evaluation of Logistic Regression is below:  \n",
            "\n",
            "Mean squared error:  0.4465441653985704\n",
            "Mean absolute error:  0.4921902540765641\n",
            "R2 score:  0.7641133663863862\n"
          ]
        }
      ]
    },
    {
      "cell_type": "code",
      "source": [
        "X.head(5)"
      ],
      "metadata": {
        "colab": {
          "base_uri": "https://localhost:8080/",
          "height": 206
        },
        "id": "fPmHQzbH9a4H",
        "outputId": "bfff7239-02bd-4fde-a089-b775c5506021"
      },
      "execution_count": 97,
      "outputs": [
        {
          "output_type": "execute_result",
          "data": {
            "text/plain": [
              "   Year  Votes  Duration  Genre_mean_rating  Director_encoded  Actor1_encoded  \\\n",
              "1  2019      8       109           6.056744          7.000000        6.850000   \n",
              "3  2019     35       110           5.751042          4.400000        5.250000   \n",
              "3  2019     35       110           5.811087          4.400000        5.250000   \n",
              "5  1997    827       147           5.751042          5.335135        4.793617   \n",
              "5  1997    827       147           6.056744          5.335135        4.793617   \n",
              "\n",
              "   Actor2_encoded  Actor3_encoded  \n",
              "1            7.00            7.00  \n",
              "3            4.40            4.46  \n",
              "3            4.40            4.46  \n",
              "5            5.73            5.93  \n",
              "5            5.73            5.93  "
            ],
            "text/html": [
              "\n",
              "  <div id=\"df-f05c9356-c2fb-4737-8486-82afd5e195ae\" class=\"colab-df-container\">\n",
              "    <div>\n",
              "<style scoped>\n",
              "    .dataframe tbody tr th:only-of-type {\n",
              "        vertical-align: middle;\n",
              "    }\n",
              "\n",
              "    .dataframe tbody tr th {\n",
              "        vertical-align: top;\n",
              "    }\n",
              "\n",
              "    .dataframe thead th {\n",
              "        text-align: right;\n",
              "    }\n",
              "</style>\n",
              "<table border=\"1\" class=\"dataframe\">\n",
              "  <thead>\n",
              "    <tr style=\"text-align: right;\">\n",
              "      <th></th>\n",
              "      <th>Year</th>\n",
              "      <th>Votes</th>\n",
              "      <th>Duration</th>\n",
              "      <th>Genre_mean_rating</th>\n",
              "      <th>Director_encoded</th>\n",
              "      <th>Actor1_encoded</th>\n",
              "      <th>Actor2_encoded</th>\n",
              "      <th>Actor3_encoded</th>\n",
              "    </tr>\n",
              "  </thead>\n",
              "  <tbody>\n",
              "    <tr>\n",
              "      <th>1</th>\n",
              "      <td>2019</td>\n",
              "      <td>8</td>\n",
              "      <td>109</td>\n",
              "      <td>6.056744</td>\n",
              "      <td>7.000000</td>\n",
              "      <td>6.850000</td>\n",
              "      <td>7.00</td>\n",
              "      <td>7.00</td>\n",
              "    </tr>\n",
              "    <tr>\n",
              "      <th>3</th>\n",
              "      <td>2019</td>\n",
              "      <td>35</td>\n",
              "      <td>110</td>\n",
              "      <td>5.751042</td>\n",
              "      <td>4.400000</td>\n",
              "      <td>5.250000</td>\n",
              "      <td>4.40</td>\n",
              "      <td>4.46</td>\n",
              "    </tr>\n",
              "    <tr>\n",
              "      <th>3</th>\n",
              "      <td>2019</td>\n",
              "      <td>35</td>\n",
              "      <td>110</td>\n",
              "      <td>5.811087</td>\n",
              "      <td>4.400000</td>\n",
              "      <td>5.250000</td>\n",
              "      <td>4.40</td>\n",
              "      <td>4.46</td>\n",
              "    </tr>\n",
              "    <tr>\n",
              "      <th>5</th>\n",
              "      <td>1997</td>\n",
              "      <td>827</td>\n",
              "      <td>147</td>\n",
              "      <td>5.751042</td>\n",
              "      <td>5.335135</td>\n",
              "      <td>4.793617</td>\n",
              "      <td>5.73</td>\n",
              "      <td>5.93</td>\n",
              "    </tr>\n",
              "    <tr>\n",
              "      <th>5</th>\n",
              "      <td>1997</td>\n",
              "      <td>827</td>\n",
              "      <td>147</td>\n",
              "      <td>6.056744</td>\n",
              "      <td>5.335135</td>\n",
              "      <td>4.793617</td>\n",
              "      <td>5.73</td>\n",
              "      <td>5.93</td>\n",
              "    </tr>\n",
              "  </tbody>\n",
              "</table>\n",
              "</div>\n",
              "    <div class=\"colab-df-buttons\">\n",
              "\n",
              "  <div class=\"colab-df-container\">\n",
              "    <button class=\"colab-df-convert\" onclick=\"convertToInteractive('df-f05c9356-c2fb-4737-8486-82afd5e195ae')\"\n",
              "            title=\"Convert this dataframe to an interactive table.\"\n",
              "            style=\"display:none;\">\n",
              "\n",
              "  <svg xmlns=\"http://www.w3.org/2000/svg\" height=\"24px\" viewBox=\"0 -960 960 960\">\n",
              "    <path d=\"M120-120v-720h720v720H120Zm60-500h600v-160H180v160Zm220 220h160v-160H400v160Zm0 220h160v-160H400v160ZM180-400h160v-160H180v160Zm440 0h160v-160H620v160ZM180-180h160v-160H180v160Zm440 0h160v-160H620v160Z\"/>\n",
              "  </svg>\n",
              "    </button>\n",
              "\n",
              "  <style>\n",
              "    .colab-df-container {\n",
              "      display:flex;\n",
              "      gap: 12px;\n",
              "    }\n",
              "\n",
              "    .colab-df-convert {\n",
              "      background-color: #E8F0FE;\n",
              "      border: none;\n",
              "      border-radius: 50%;\n",
              "      cursor: pointer;\n",
              "      display: none;\n",
              "      fill: #1967D2;\n",
              "      height: 32px;\n",
              "      padding: 0 0 0 0;\n",
              "      width: 32px;\n",
              "    }\n",
              "\n",
              "    .colab-df-convert:hover {\n",
              "      background-color: #E2EBFA;\n",
              "      box-shadow: 0px 1px 2px rgba(60, 64, 67, 0.3), 0px 1px 3px 1px rgba(60, 64, 67, 0.15);\n",
              "      fill: #174EA6;\n",
              "    }\n",
              "\n",
              "    .colab-df-buttons div {\n",
              "      margin-bottom: 4px;\n",
              "    }\n",
              "\n",
              "    [theme=dark] .colab-df-convert {\n",
              "      background-color: #3B4455;\n",
              "      fill: #D2E3FC;\n",
              "    }\n",
              "\n",
              "    [theme=dark] .colab-df-convert:hover {\n",
              "      background-color: #434B5C;\n",
              "      box-shadow: 0px 1px 3px 1px rgba(0, 0, 0, 0.15);\n",
              "      filter: drop-shadow(0px 1px 2px rgba(0, 0, 0, 0.3));\n",
              "      fill: #FFFFFF;\n",
              "    }\n",
              "  </style>\n",
              "\n",
              "    <script>\n",
              "      const buttonEl =\n",
              "        document.querySelector('#df-f05c9356-c2fb-4737-8486-82afd5e195ae button.colab-df-convert');\n",
              "      buttonEl.style.display =\n",
              "        google.colab.kernel.accessAllowed ? 'block' : 'none';\n",
              "\n",
              "      async function convertToInteractive(key) {\n",
              "        const element = document.querySelector('#df-f05c9356-c2fb-4737-8486-82afd5e195ae');\n",
              "        const dataTable =\n",
              "          await google.colab.kernel.invokeFunction('convertToInteractive',\n",
              "                                                    [key], {});\n",
              "        if (!dataTable) return;\n",
              "\n",
              "        const docLinkHtml = 'Like what you see? Visit the ' +\n",
              "          '<a target=\"_blank\" href=https://colab.research.google.com/notebooks/data_table.ipynb>data table notebook</a>'\n",
              "          + ' to learn more about interactive tables.';\n",
              "        element.innerHTML = '';\n",
              "        dataTable['output_type'] = 'display_data';\n",
              "        await google.colab.output.renderOutput(dataTable, element);\n",
              "        const docLink = document.createElement('div');\n",
              "        docLink.innerHTML = docLinkHtml;\n",
              "        element.appendChild(docLink);\n",
              "      }\n",
              "    </script>\n",
              "  </div>\n",
              "\n",
              "\n",
              "<div id=\"df-fccd40be-7f6b-4b4e-ba92-2649376bb594\">\n",
              "  <button class=\"colab-df-quickchart\" onclick=\"quickchart('df-fccd40be-7f6b-4b4e-ba92-2649376bb594')\"\n",
              "            title=\"Suggest charts\"\n",
              "            style=\"display:none;\">\n",
              "\n",
              "<svg xmlns=\"http://www.w3.org/2000/svg\" height=\"24px\"viewBox=\"0 0 24 24\"\n",
              "     width=\"24px\">\n",
              "    <g>\n",
              "        <path d=\"M19 3H5c-1.1 0-2 .9-2 2v14c0 1.1.9 2 2 2h14c1.1 0 2-.9 2-2V5c0-1.1-.9-2-2-2zM9 17H7v-7h2v7zm4 0h-2V7h2v10zm4 0h-2v-4h2v4z\"/>\n",
              "    </g>\n",
              "</svg>\n",
              "  </button>\n",
              "\n",
              "<style>\n",
              "  .colab-df-quickchart {\n",
              "      --bg-color: #E8F0FE;\n",
              "      --fill-color: #1967D2;\n",
              "      --hover-bg-color: #E2EBFA;\n",
              "      --hover-fill-color: #174EA6;\n",
              "      --disabled-fill-color: #AAA;\n",
              "      --disabled-bg-color: #DDD;\n",
              "  }\n",
              "\n",
              "  [theme=dark] .colab-df-quickchart {\n",
              "      --bg-color: #3B4455;\n",
              "      --fill-color: #D2E3FC;\n",
              "      --hover-bg-color: #434B5C;\n",
              "      --hover-fill-color: #FFFFFF;\n",
              "      --disabled-bg-color: #3B4455;\n",
              "      --disabled-fill-color: #666;\n",
              "  }\n",
              "\n",
              "  .colab-df-quickchart {\n",
              "    background-color: var(--bg-color);\n",
              "    border: none;\n",
              "    border-radius: 50%;\n",
              "    cursor: pointer;\n",
              "    display: none;\n",
              "    fill: var(--fill-color);\n",
              "    height: 32px;\n",
              "    padding: 0;\n",
              "    width: 32px;\n",
              "  }\n",
              "\n",
              "  .colab-df-quickchart:hover {\n",
              "    background-color: var(--hover-bg-color);\n",
              "    box-shadow: 0 1px 2px rgba(60, 64, 67, 0.3), 0 1px 3px 1px rgba(60, 64, 67, 0.15);\n",
              "    fill: var(--button-hover-fill-color);\n",
              "  }\n",
              "\n",
              "  .colab-df-quickchart-complete:disabled,\n",
              "  .colab-df-quickchart-complete:disabled:hover {\n",
              "    background-color: var(--disabled-bg-color);\n",
              "    fill: var(--disabled-fill-color);\n",
              "    box-shadow: none;\n",
              "  }\n",
              "\n",
              "  .colab-df-spinner {\n",
              "    border: 2px solid var(--fill-color);\n",
              "    border-color: transparent;\n",
              "    border-bottom-color: var(--fill-color);\n",
              "    animation:\n",
              "      spin 1s steps(1) infinite;\n",
              "  }\n",
              "\n",
              "  @keyframes spin {\n",
              "    0% {\n",
              "      border-color: transparent;\n",
              "      border-bottom-color: var(--fill-color);\n",
              "      border-left-color: var(--fill-color);\n",
              "    }\n",
              "    20% {\n",
              "      border-color: transparent;\n",
              "      border-left-color: var(--fill-color);\n",
              "      border-top-color: var(--fill-color);\n",
              "    }\n",
              "    30% {\n",
              "      border-color: transparent;\n",
              "      border-left-color: var(--fill-color);\n",
              "      border-top-color: var(--fill-color);\n",
              "      border-right-color: var(--fill-color);\n",
              "    }\n",
              "    40% {\n",
              "      border-color: transparent;\n",
              "      border-right-color: var(--fill-color);\n",
              "      border-top-color: var(--fill-color);\n",
              "    }\n",
              "    60% {\n",
              "      border-color: transparent;\n",
              "      border-right-color: var(--fill-color);\n",
              "    }\n",
              "    80% {\n",
              "      border-color: transparent;\n",
              "      border-right-color: var(--fill-color);\n",
              "      border-bottom-color: var(--fill-color);\n",
              "    }\n",
              "    90% {\n",
              "      border-color: transparent;\n",
              "      border-bottom-color: var(--fill-color);\n",
              "    }\n",
              "  }\n",
              "</style>\n",
              "\n",
              "  <script>\n",
              "    async function quickchart(key) {\n",
              "      const quickchartButtonEl =\n",
              "        document.querySelector('#' + key + ' button');\n",
              "      quickchartButtonEl.disabled = true;  // To prevent multiple clicks.\n",
              "      quickchartButtonEl.classList.add('colab-df-spinner');\n",
              "      try {\n",
              "        const charts = await google.colab.kernel.invokeFunction(\n",
              "            'suggestCharts', [key], {});\n",
              "      } catch (error) {\n",
              "        console.error('Error during call to suggestCharts:', error);\n",
              "      }\n",
              "      quickchartButtonEl.classList.remove('colab-df-spinner');\n",
              "      quickchartButtonEl.classList.add('colab-df-quickchart-complete');\n",
              "    }\n",
              "    (() => {\n",
              "      let quickchartButtonEl =\n",
              "        document.querySelector('#df-fccd40be-7f6b-4b4e-ba92-2649376bb594 button');\n",
              "      quickchartButtonEl.style.display =\n",
              "        google.colab.kernel.accessAllowed ? 'block' : 'none';\n",
              "    })();\n",
              "  </script>\n",
              "</div>\n",
              "\n",
              "    </div>\n",
              "  </div>\n"
            ],
            "application/vnd.google.colaboratory.intrinsic+json": {
              "type": "dataframe",
              "variable_name": "X",
              "summary": "{\n  \"name\": \"X\",\n  \"rows\": 11979,\n  \"fields\": [\n    {\n      \"column\": \"Year\",\n      \"properties\": {\n        \"dtype\": \"number\",\n        \"std\": 19,\n        \"min\": 1931,\n        \"max\": 2021,\n        \"num_unique_values\": 91,\n        \"samples\": [\n          1990,\n          1974,\n          1970\n        ],\n        \"semantic_type\": \"\",\n        \"description\": \"\"\n      }\n    },\n    {\n      \"column\": \"Votes\",\n      \"properties\": {\n        \"dtype\": \"number\",\n        \"std\": 15305,\n        \"min\": 5,\n        \"max\": 591417,\n        \"num_unique_values\": 2027,\n        \"samples\": [\n          2534,\n          8372,\n          21773\n        ],\n        \"semantic_type\": \"\",\n        \"description\": \"\"\n      }\n    },\n    {\n      \"column\": \"Duration\",\n      \"properties\": {\n        \"dtype\": \"number\",\n        \"std\": 25,\n        \"min\": 21,\n        \"max\": 321,\n        \"num_unique_values\": 174,\n        \"samples\": [\n          197,\n          247,\n          86\n        ],\n        \"semantic_type\": \"\",\n        \"description\": \"\"\n      }\n    },\n    {\n      \"column\": \"Genre_mean_rating\",\n      \"properties\": {\n        \"dtype\": \"number\",\n        \"std\": 0.30932045663366553,\n        \"min\": 4.817326732673267,\n        \"max\": 8.0,\n        \"num_unique_values\": 22,\n        \"samples\": [\n          6.056743940990517,\n          6.515000000000001,\n          5.520462633451957\n        ],\n        \"semantic_type\": \"\",\n        \"description\": \"\"\n      }\n    },\n    {\n      \"column\": \"Director_encoded\",\n      \"properties\": {\n        \"dtype\": \"number\",\n        \"std\": 1.097723217523055,\n        \"min\": 1.6,\n        \"max\": 10.0,\n        \"num_unique_values\": 654,\n        \"samples\": [\n          6.270588235294118,\n          5.400000000000001,\n          5.455555555555556\n        ],\n        \"semantic_type\": \"\",\n        \"description\": \"\"\n      }\n    },\n    {\n      \"column\": \"Actor1_encoded\",\n      \"properties\": {\n        \"dtype\": \"number\",\n        \"std\": 1.0018932461598078,\n        \"min\": 1.4,\n        \"max\": 10.0,\n        \"num_unique_values\": 496,\n        \"samples\": [\n          5.199999999999999,\n          8.0,\n          6.400000000000001\n        ],\n        \"semantic_type\": \"\",\n        \"description\": \"\"\n      }\n    },\n    {\n      \"column\": \"Actor2_encoded\",\n      \"properties\": {\n        \"dtype\": \"number\",\n        \"std\": 1.033033590425124,\n        \"min\": 1.6,\n        \"max\": 10.0,\n        \"num_unique_values\": 593,\n        \"samples\": [\n          6.1,\n          8.0,\n          6.74\n        ],\n        \"semantic_type\": \"\",\n        \"description\": \"\"\n      }\n    },\n    {\n      \"column\": \"Actor3_encoded\",\n      \"properties\": {\n        \"dtype\": \"number\",\n        \"std\": 1.0460841819887676,\n        \"min\": 1.7,\n        \"max\": 10.0,\n        \"num_unique_values\": 624,\n        \"samples\": [\n          6.975,\n          6.9750000000000005,\n          5.136363636363637\n        ],\n        \"semantic_type\": \"\",\n        \"description\": \"\"\n      }\n    }\n  ]\n}"
            }
          },
          "metadata": {},
          "execution_count": 97
        }
      ]
    },
    {
      "cell_type": "code",
      "source": [
        "y.head(5)"
      ],
      "metadata": {
        "colab": {
          "base_uri": "https://localhost:8080/"
        },
        "id": "QkeQTySe9gj1",
        "outputId": "d7296899-4cc1-4032-bb79-0bcf11761bdf"
      },
      "execution_count": 98,
      "outputs": [
        {
          "output_type": "execute_result",
          "data": {
            "text/plain": [
              "1    7.0\n",
              "3    4.4\n",
              "3    4.4\n",
              "5    4.7\n",
              "5    4.7\n",
              "Name: Rating, dtype: float64"
            ]
          },
          "metadata": {},
          "execution_count": 98
        }
      ]
    },
    {
      "cell_type": "code",
      "source": [
        "# For testing, We create a new dataframe with values close to the any of our existing data to evaluate.\n",
        "\n",
        "data = {'Year': [2019], 'Votes': [36], 'Duration': [111], 'Genre_mean_rating': [5.8], 'Director_encoded': [4.5], 'Actor1_encoded': [5.3], 'Actor2_encoded': [4.5], 'Actor3_encoded': [4.5]}\n",
        "trail = pd.DataFrame(data)"
      ],
      "metadata": {
        "id": "ZpkcAUm69j3q"
      },
      "execution_count": 99,
      "outputs": []
    },
    {
      "cell_type": "code",
      "source": [
        "# Predict the movie rating by entered data\n",
        "rating_predicted = Model.predict(trail)\n",
        "\n",
        "# Display the predicted result from the Model\n",
        "print(\"Predicted Rating:\", rating_predicted[0])"
      ],
      "metadata": {
        "colab": {
          "base_uri": "https://localhost:8080/"
        },
        "id": "G3ZHMcWy9phR",
        "outputId": "0341a030-3ed4-49be-caee-2476f486e0e7"
      },
      "execution_count": 100,
      "outputs": [
        {
          "output_type": "stream",
          "name": "stdout",
          "text": [
            "Predicted Rating: 4.207458962134328\n"
          ]
        }
      ]
    }
  ]
}